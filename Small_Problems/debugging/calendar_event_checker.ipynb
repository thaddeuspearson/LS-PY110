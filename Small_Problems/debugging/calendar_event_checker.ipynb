{
 "cells": [
  {
   "cell_type": "markdown",
   "metadata": {},
   "source": [
    " Calendar Event Checker\n",
    "---\n",
    "\n",
    "## Problem\n",
    "\n",
    "We have a list of events and want to check whether a specific date is available _(i.e., no events planned for that date)_. However, the function always returns the wrong value."
   ]
  },
  {
   "cell_type": "code",
   "execution_count": null,
   "metadata": {},
   "outputs": [],
   "source": [
    "events = {\n",
    "    \"2023-08-13\": [\"Python debugging exercises\"],\n",
    "    \"2023-08-14\": [\"Read 'Automate the Boring Stuff'\"],\n",
    "    \"2023-08-15\": [\"Webinar: Python for Data Science\"],\n",
    "}\n",
    "\n",
    "def is_date_available(date):\n",
    "    if date in events:\n",
    "        return True\n",
    "\n",
    "    return False\n",
    "\n",
    "print(is_date_available(\"2023-08-14\"))  # should return False\n",
    "print(is_date_available(\"2023-08-16\"))  # should return True"
   ]
  },
  {
   "cell_type": "markdown",
   "metadata": {},
   "source": [
    "## Explanation\n",
    "\n",
    "With the code as written, the if conditional statement on line 8 is explicitly checking if the given date is in the events dictionary defined in the global scope. Assuming that when a date is inserted into the events dictionary, it always has some values in the corresponding list value, the code _should_ be checking to see if the given date is _not_ in the events dictionary.\n",
    "\n",
    "## Solution\n",
    "\n",
    "In this instance, the fix is very simple. On line 8, the `not` keyword can be used befoe the `in` keyword, and the code works as intended:"
   ]
  },
  {
   "cell_type": "code",
   "execution_count": null,
   "metadata": {},
   "outputs": [
    {
     "name": "stdout",
     "output_type": "stream",
     "text": [
      "False\n",
      "True\n"
     ]
    }
   ],
   "source": [
    "events = {\n",
    "    \"2023-08-13\": [\"Python debugging exercises\"],\n",
    "    \"2023-08-14\": [\"Read 'Automate the Boring Stuff'\"],\n",
    "    \"2023-08-15\": [\"Webinar: Python for Data Science\"],\n",
    "}\n",
    "\n",
    "\n",
    "def is_date_available(date):\n",
    "    if date not in events:\n",
    "        return True\n",
    "\n",
    "    return False\n",
    "\n",
    "\n",
    "print(is_date_available(\"2023-08-14\"))  # should return False\n",
    "print(is_date_available(\"2023-08-16\"))  # should return True"
   ]
  },
  {
   "cell_type": "markdown",
   "metadata": {},
   "source": [
    "An improvement to this code would be to return the boolean check explicitly, as it will also return True or False accordingly:"
   ]
  },
  {
   "cell_type": "code",
   "execution_count": null,
   "metadata": {},
   "outputs": [
    {
     "name": "stdout",
     "output_type": "stream",
     "text": [
      "False\n",
      "True\n"
     ]
    }
   ],
   "source": [
    "events = {\n",
    "    \"2023-08-13\": [\"Python debugging exercises\"],\n",
    "    \"2023-08-14\": [\"Read 'Automate the Boring Stuff'\"],\n",
    "    \"2023-08-15\": [\"Webinar: Python for Data Science\"],\n",
    "}\n",
    "\n",
    "\n",
    "def is_date_available(date):\n",
    "    return date not in events\n",
    "\n",
    "\n",
    "print(is_date_available(\"2023-08-14\"))  # should return False\n",
    "print(is_date_available(\"2023-08-16\"))  # should return True"
   ]
  }
 ],
 "metadata": {
  "kernelspec": {
   "display_name": "Python 3",
   "language": "python",
   "name": "python3"
  },
  "language_info": {
   "codemirror_mode": {
    "name": "ipython",
    "version": 3
   },
   "file_extension": ".py",
   "mimetype": "text/x-python",
   "name": "python",
   "nbconvert_exporter": "python",
   "pygments_lexer": "ipython3",
   "version": "3.13.1"
  }
 },
 "nbformat": 4,
 "nbformat_minor": 2
}

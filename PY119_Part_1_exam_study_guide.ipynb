{
 "cells": [
  {
   "cell_type": "markdown",
   "metadata": {},
   "source": [
    "# PY119 Part 1: Exam Study Guide\n",
    "---"
   ]
  },
  {
   "cell_type": "markdown",
   "metadata": {},
   "source": [
    "## [str methods](https://launchschool.com/lessons/1b66cd61/assignments/ec6f2031): "
   ]
  },
  {
   "cell_type": "markdown",
   "metadata": {},
   "source": [
    "### `.index(target)`\n",
    "- Gets the index of the first instance of the given target\n",
    "\n",
    "- Raises `ValueError` if the given target is not found in the string"
   ]
  },
  {
   "cell_type": "code",
   "execution_count": 17,
   "metadata": {},
   "outputs": [
    {
     "name": "stdout",
     "output_type": "stream",
     "text": [
      "0\n"
     ]
    },
    {
     "ename": "ValueError",
     "evalue": "substring not found",
     "output_type": "error",
     "traceback": [
      "\u001b[0;31m---------------------------------------------------------------------------\u001b[0m",
      "\u001b[0;31mValueError\u001b[0m                                Traceback (most recent call last)",
      "Cell \u001b[0;32mIn[17], line 4\u001b[0m\n\u001b[1;32m      1\u001b[0m s \u001b[38;5;241m=\u001b[39m \u001b[38;5;124m\"\u001b[39m\u001b[38;5;124mI am a string!\u001b[39m\u001b[38;5;124m\"\u001b[39m\n\u001b[1;32m      3\u001b[0m \u001b[38;5;28mprint\u001b[39m(s\u001b[38;5;241m.\u001b[39mindex(\u001b[38;5;124m\"\u001b[39m\u001b[38;5;124mI\u001b[39m\u001b[38;5;124m\"\u001b[39m))\n\u001b[0;32m----> 4\u001b[0m \u001b[38;5;28mprint\u001b[39m(\u001b[43ms\u001b[49m\u001b[38;5;241;43m.\u001b[39;49m\u001b[43mindex\u001b[49m\u001b[43m(\u001b[49m\u001b[38;5;124;43m'\u001b[39;49m\u001b[38;5;124;43mQ\u001b[39;49m\u001b[38;5;124;43m'\u001b[39;49m\u001b[43m)\u001b[49m)\n",
      "\u001b[0;31mValueError\u001b[0m: substring not found"
     ]
    }
   ],
   "source": [
    "s = \"I am a string!\"\n",
    "\n",
    "print(s.index(\"I\"))\n",
    "print(s.index('Q'))"
   ]
  },
  {
   "cell_type": "markdown",
   "metadata": {},
   "source": [
    "### `.find(target)`\n",
    "- Gets the index of the first instance given target\n",
    "\n",
    "- Returns `-1` if the target is not present in the string"
   ]
  },
  {
   "cell_type": "code",
   "execution_count": 15,
   "metadata": {},
   "outputs": [
    {
     "name": "stdout",
     "output_type": "stream",
     "text": [
      "0\n",
      "-1\n"
     ]
    }
   ],
   "source": [
    "s = \"I am a string!\"\n",
    "\n",
    "print(s.find(\"I\"))\n",
    "print(s.find('Q'))"
   ]
  },
  {
   "cell_type": "markdown",
   "metadata": {},
   "source": [
    "### `.split(separator)`\n",
    "- creates a new list with individual characters of the string as an element, defaults to spliting on space character (\" \")\n",
    "\n",
    "- _optional:_ separator is the character that split will split on"
   ]
  },
  {
   "cell_type": "code",
   "execution_count": 18,
   "metadata": {},
   "outputs": [
    {
     "name": "stdout",
     "output_type": "stream",
     "text": [
      "['I', 'am', 'a', 'string!']\n",
      "['I', 'am', 'a', 'string!']\n"
     ]
    }
   ],
   "source": [
    "s = \"I am a string!\"\n",
    "\n",
    "print(s.split())\n",
    "print(s.split(' '))"
   ]
  },
  {
   "cell_type": "markdown",
   "metadata": {},
   "source": [
    "### `.strip(target)`\n",
    "- returns a copy of the string with target char removed from leading and trailing spaces. Removes white space by default.\n",
    "\n",
    "- _optional_: target - the char to remove from the string"
   ]
  },
  {
   "cell_type": "code",
   "execution_count": 30,
   "metadata": {},
   "outputs": [
    {
     "name": "stdout",
     "output_type": "stream",
     "text": [
      "I am a string!\n",
      "    I am a string\n"
     ]
    }
   ],
   "source": [
    "s = \"    I am a string!\"\n",
    "\n",
    "print(s.strip())\n",
    "print(s.strip(\"!\"))"
   ]
  },
  {
   "cell_type": "markdown",
   "metadata": {},
   "source": [
    "### `.join(target)`\n",
    "- joins the target with the given delimiter `.join()` is called on\n",
    "\n",
    "- target must be an iterable, Reaises a `TypeError` if given an invalid argument"
   ]
  },
  {
   "cell_type": "code",
   "execution_count": 39,
   "metadata": {},
   "outputs": [
    {
     "name": "stdout",
     "output_type": "stream",
     "text": [
      "I am a string!\n"
     ]
    },
    {
     "ename": "TypeError",
     "evalue": "can only join an iterable",
     "output_type": "error",
     "traceback": [
      "\u001b[0;31m---------------------------------------------------------------------------\u001b[0m",
      "\u001b[0;31mTypeError\u001b[0m                                 Traceback (most recent call last)",
      "Cell \u001b[0;32mIn[39], line 3\u001b[0m\n\u001b[1;32m      1\u001b[0m l \u001b[38;5;241m=\u001b[39m [\u001b[38;5;124m'\u001b[39m\u001b[38;5;124mI\u001b[39m\u001b[38;5;124m'\u001b[39m, \u001b[38;5;124m'\u001b[39m\u001b[38;5;124mam\u001b[39m\u001b[38;5;124m'\u001b[39m, \u001b[38;5;124m'\u001b[39m\u001b[38;5;124ma\u001b[39m\u001b[38;5;124m'\u001b[39m, \u001b[38;5;124m'\u001b[39m\u001b[38;5;124mstring!\u001b[39m\u001b[38;5;124m'\u001b[39m]\n\u001b[1;32m      2\u001b[0m \u001b[38;5;28mprint\u001b[39m(\u001b[38;5;124m\"\u001b[39m\u001b[38;5;124m \u001b[39m\u001b[38;5;124m\"\u001b[39m\u001b[38;5;241m.\u001b[39mjoin(l))\n\u001b[0;32m----> 3\u001b[0m \u001b[38;5;28mprint\u001b[39m(\u001b[38;5;124;43m\"\u001b[39;49m\u001b[38;5;124;43m \u001b[39;49m\u001b[38;5;124;43m\"\u001b[39;49m\u001b[38;5;241;43m.\u001b[39;49m\u001b[43mjoin\u001b[49m\u001b[43m(\u001b[49m\u001b[38;5;241;43m53\u001b[39;49m\u001b[43m)\u001b[49m)\n",
      "\u001b[0;31mTypeError\u001b[0m: can only join an iterable"
     ]
    }
   ],
   "source": [
    "l = ['I', 'am', 'a', 'string!']\n",
    "print(\" \".join(l))\n",
    "print(\" \".join(53))"
   ]
  },
  {
   "cell_type": "markdown",
   "metadata": {},
   "source": [
    "### `.replace(target, replacement)`\n",
    "- replaces the given target char with the replacement char\n",
    "\n",
    "- target and replacement must be type `str`, TypeError is reaised otherwise\n"
   ]
  },
  {
   "cell_type": "code",
   "execution_count": 43,
   "metadata": {},
   "outputs": [
    {
     "name": "stdout",
     "output_type": "stream",
     "text": [
      "I em e string!\n",
      "Iamastring!\n"
     ]
    },
    {
     "ename": "TypeError",
     "evalue": "replace() argument 1 must be str, not int",
     "output_type": "error",
     "traceback": [
      "\u001b[0;31m---------------------------------------------------------------------------\u001b[0m",
      "\u001b[0;31mTypeError\u001b[0m                                 Traceback (most recent call last)",
      "Cell \u001b[0;32mIn[43], line 5\u001b[0m\n\u001b[1;32m      3\u001b[0m \u001b[38;5;28mprint\u001b[39m(s\u001b[38;5;241m.\u001b[39mreplace(\u001b[38;5;124m'\u001b[39m\u001b[38;5;124ma\u001b[39m\u001b[38;5;124m'\u001b[39m, \u001b[38;5;124m'\u001b[39m\u001b[38;5;124me\u001b[39m\u001b[38;5;124m'\u001b[39m))\n\u001b[1;32m      4\u001b[0m \u001b[38;5;28mprint\u001b[39m(s\u001b[38;5;241m.\u001b[39mreplace(\u001b[38;5;124m\"\u001b[39m\u001b[38;5;124m \u001b[39m\u001b[38;5;124m\"\u001b[39m, \u001b[38;5;124m\"\u001b[39m\u001b[38;5;124m\"\u001b[39m))\n\u001b[0;32m----> 5\u001b[0m \u001b[38;5;28mprint\u001b[39m(\u001b[43ms\u001b[49m\u001b[38;5;241;43m.\u001b[39;49m\u001b[43mreplace\u001b[49m\u001b[43m(\u001b[49m\u001b[38;5;241;43m1\u001b[39;49m\u001b[43m,\u001b[49m\u001b[43m \u001b[49m\u001b[38;5;241;43m1\u001b[39;49m\u001b[43m)\u001b[49m)\n",
      "\u001b[0;31mTypeError\u001b[0m: replace() argument 1 must be str, not int"
     ]
    }
   ],
   "source": [
    "s = \"I am a string!\"\n",
    "\n",
    "print(s.replace('a', 'e'))\n",
    "print(s.replace(\" \", \"\"))\n",
    "print(s.replace(1, 1))"
   ]
  },
  {
   "cell_type": "code",
   "execution_count": 45,
   "metadata": {},
   "outputs": [
    {
     "name": "stdout",
     "output_type": "stream",
     "text": [
      "I AM A STRING!\n",
      "SS\n"
     ]
    }
   ],
   "source": [
    "s = \"I am a string!\"\n",
    "\n",
    "print(s.upper())\n",
    "print(\"ß\".upper())"
   ]
  },
  {
   "cell_type": "markdown",
   "metadata": {},
   "source": [
    "### `.lower()`\n",
    "- Returns all characters lowercased\n",
    "\n",
    "- chars that do not have case are ignored\n",
    "\n",
    "- **NOTE**: internationalization can get wonky here. ex: \"ß\" in German"
   ]
  },
  {
   "cell_type": "code",
   "execution_count": 47,
   "metadata": {},
   "outputs": [
    {
     "name": "stdout",
     "output_type": "stream",
     "text": [
      "i am a string!\n",
      "ss\n"
     ]
    }
   ],
   "source": [
    "s = \"I am a string!\"\n",
    "\n",
    "print(s.lower())\n",
    "print(\"ß\".upper().lower())"
   ]
  },
  {
   "cell_type": "markdown",
   "metadata": {},
   "source": [
    "### `.capitalize()`\n",
    "- Returns the string with the first character in uppercase and the rest in lowercase\n",
    "\n",
    "- chars that do not have case are ignored\n",
    "\n",
    "- **NOTE**: internationalization can get wonky here. ex: \"ß\" in German"
   ]
  },
  {
   "cell_type": "code",
   "execution_count": 51,
   "metadata": {},
   "outputs": [
    {
     "name": "stdout",
     "output_type": "stream",
     "text": [
      "I am a string!\n",
      "Ss\n"
     ]
    }
   ],
   "source": [
    "s = \"I am a String!\"\n",
    "\n",
    "print(s.capitalize())\n",
    "print(\"ß\".capitalize())"
   ]
  },
  {
   "cell_type": "markdown",
   "metadata": {},
   "source": [
    "## [list methods](https://launchschool.com/lessons/1b66cd61/assignments/6992af5a): "
   ]
  },
  {
   "cell_type": "markdown",
   "metadata": {},
   "source": [
    "## [dict methods](https://launchschool.com/lessons/1b66cd61/assignments/cf779435): "
   ]
  },
  {
   "cell_type": "markdown",
   "metadata": {},
   "source": [
    "## [set methods](https://launchschool.com/lessons/1b66cd61/assignments/cf779435): "
   ]
  },
  {
   "cell_type": "markdown",
   "metadata": {},
   "source": [
    "## [frozenset methods](https://launchschool.com/lessons/1b66cd61/assignments/cf779435):"
   ]
  },
  {
   "cell_type": "markdown",
   "metadata": {},
   "source": [
    "## [tuple methods](https://launchschool.com/lessons/1b66cd61/assignments/6992af5a):"
   ]
  },
  {
   "cell_type": "markdown",
   "metadata": {},
   "source": [
    "## [range and enumerate](https://launchschool.com/lessons/1b66cd61/assignments/ec6f2031):"
   ]
  },
  {
   "cell_type": "markdown",
   "metadata": {},
   "source": [
    "## built-in functions "
   ]
  },
  {
   "cell_type": "markdown",
   "metadata": {},
   "source": [
    "## [sorting](https://launchschool.com/lessons/76ecb255/assignments/6a0df143):"
   ]
  },
  {
   "cell_type": "markdown",
   "metadata": {},
   "source": [
    "## [comprehensions](https://launchschool.com/lessons/76ecb255/assignments/5780058f):"
   ]
  },
  {
   "cell_type": "markdown",
   "metadata": {},
   "source": [
    "## [nested data structures and nested iteration](https://launchschool.com/lessons/76ecb255/assignments/fe31086e):"
   ]
  }
 ],
 "metadata": {
  "kernelspec": {
   "display_name": "Python 3",
   "language": "python",
   "name": "python3"
  },
  "language_info": {
   "codemirror_mode": {
    "name": "ipython",
    "version": 3
   },
   "file_extension": ".py",
   "mimetype": "text/x-python",
   "name": "python",
   "nbconvert_exporter": "python",
   "pygments_lexer": "ipython3",
   "version": "3.13.1"
  }
 },
 "nbformat": 4,
 "nbformat_minor": 2
}

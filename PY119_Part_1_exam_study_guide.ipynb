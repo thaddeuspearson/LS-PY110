{
 "cells": [
  {
   "cell_type": "markdown",
   "metadata": {},
   "source": [
    "# PY119 Part 1: Exam Study Guide\n",
    "---"
   ]
  },
  {
   "cell_type": "markdown",
   "metadata": {},
   "source": [
    "## [str methods](https://launchschool.com/lessons/1b66cd61/assignments/ec6f2031): "
   ]
  },
  {
   "cell_type": "markdown",
   "metadata": {},
   "source": [
    "### `.index(target)`\n",
    "- Gets the index of the first instance of the given target\n",
    "\n",
    "- Raises `ValueError` if the given target is not found in the string"
   ]
  },
  {
   "cell_type": "code",
   "execution_count": null,
   "metadata": {},
   "outputs": [],
   "source": [
    "s = \"I am a string!\"\n",
    "\n",
    "print(s.index(\"I\"))\n",
    "print(s.index('Q'))"
   ]
  },
  {
   "cell_type": "markdown",
   "metadata": {},
   "source": [
    "### `.find(target)`\n",
    "- Gets the index of the first instance given target\n",
    "\n",
    "- Returns `-1` if the target is not present in the string"
   ]
  },
  {
   "cell_type": "code",
   "execution_count": null,
   "metadata": {},
   "outputs": [],
   "source": [
    "s = \"I am a string!\"\n",
    "\n",
    "print(s.find(\"I\"))\n",
    "print(s.find('Q'))"
   ]
  },
  {
   "cell_type": "markdown",
   "metadata": {},
   "source": [
    "### `.split(separator)`\n",
    "- creates a new list with individual characters of the string as an element, defaults to spliting on space character (\" \")\n",
    "\n",
    "- _optional:_ separator is the character that split will split on"
   ]
  },
  {
   "cell_type": "code",
   "execution_count": null,
   "metadata": {},
   "outputs": [],
   "source": [
    "s = \"I am a string!\"\n",
    "\n",
    "print(s.split())\n",
    "print(s.split(' '))"
   ]
  },
  {
   "cell_type": "markdown",
   "metadata": {},
   "source": [
    "### `.strip(target)`\n",
    "- returns a copy of the string with target char removed from leading and trailing spaces. Removes white space by default.\n",
    "\n",
    "- _optional_: target - the char to remove from the string"
   ]
  },
  {
   "cell_type": "code",
   "execution_count": null,
   "metadata": {},
   "outputs": [],
   "source": [
    "s = \"    I am a string!\"\n",
    "\n",
    "print(s.strip())\n",
    "print(s.strip(\"!\"))"
   ]
  },
  {
   "cell_type": "markdown",
   "metadata": {},
   "source": [
    "### `.join(target)`\n",
    "- joins the target with the given delimiter `.join()` is called on\n",
    "\n",
    "- target must be an iterable, Reaises a `TypeError` if given an invalid argument"
   ]
  },
  {
   "cell_type": "code",
   "execution_count": null,
   "metadata": {},
   "outputs": [],
   "source": [
    "l = ['I', 'am', 'a', 'string!']\n",
    "print(\" \".join(l))\n",
    "print(\" \".join(53))"
   ]
  },
  {
   "cell_type": "markdown",
   "metadata": {},
   "source": [
    "### `.replace(target, replacement)`\n",
    "- replaces the given target char with the replacement char\n",
    "\n",
    "- target and replacement must be type `str`, TypeError is reaised otherwise\n"
   ]
  },
  {
   "cell_type": "code",
   "execution_count": null,
   "metadata": {},
   "outputs": [],
   "source": [
    "s = \"I am a string!\"\n",
    "\n",
    "print(s.replace('a', 'e'))\n",
    "print(s.replace(\" \", \"\"))\n",
    "print(s.replace(1, 1))"
   ]
  },
  {
   "cell_type": "code",
   "execution_count": null,
   "metadata": {},
   "outputs": [],
   "source": [
    "s = \"I am a string!\"\n",
    "\n",
    "print(s.upper())\n",
    "print(\"ß\".upper())"
   ]
  },
  {
   "cell_type": "markdown",
   "metadata": {},
   "source": [
    "### `.lower()`\n",
    "- Returns all characters lowercased\n",
    "\n",
    "- chars that do not have case are ignored\n",
    "\n",
    "- **NOTE**: internationalization can get wonky here. ex: \"ß\" in German"
   ]
  },
  {
   "cell_type": "code",
   "execution_count": null,
   "metadata": {},
   "outputs": [],
   "source": [
    "s = \"I am a string!\"\n",
    "\n",
    "print(s.lower())\n",
    "print(\"ß\".upper().lower())"
   ]
  },
  {
   "cell_type": "markdown",
   "metadata": {},
   "source": [
    "### `.capitalize()`\n",
    "- Returns the string with the first character in uppercase and the rest in lowercase\n",
    "\n",
    "- chars that do not have case are ignored\n",
    "\n",
    "- **NOTE**: internationalization can get wonky here. ex: \"ß\" in German"
   ]
  },
  {
   "cell_type": "code",
   "execution_count": null,
   "metadata": {},
   "outputs": [],
   "source": [
    "s = \"I am a String!\"\n",
    "\n",
    "print(s.capitalize())\n",
    "print(\"ß\".capitalize())"
   ]
  },
  {
   "cell_type": "markdown",
   "metadata": {},
   "source": [
    "## [list methods](https://launchschool.com/lessons/1b66cd61/assignments/6992af5a): "
   ]
  },
  {
   "cell_type": "markdown",
   "metadata": {},
   "source": [
    "### `.append(target_object)`\n",
    "- Mutative\n",
    "\n",
    "- No return value\n",
    "\n",
    "- Adds the target object to the end of the list"
   ]
  },
  {
   "cell_type": "code",
   "execution_count": null,
   "metadata": {},
   "outputs": [],
   "source": [
    "s_list = [\"list\", \"of\", \"strings\"]\n",
    "n_list = [1, 2, 3, 4]\n",
    "\n",
    "s = s_list.append(\"here\")\n",
    "n = n_list.append(5)\n",
    "\n",
    "print(s_list)\n",
    "print(s)\n",
    "print(n_list)\n",
    "print(n)\n"
   ]
  },
  {
   "cell_type": "markdown",
   "metadata": {},
   "source": [
    "### `.extend(target_list)`\n",
    "- Mutative\n",
    "\n",
    "- No return value\n",
    "\n",
    "- Extends a list with the elements of target_list"
   ]
  },
  {
   "cell_type": "code",
   "execution_count": null,
   "metadata": {},
   "outputs": [],
   "source": [
    "s_list = [\"list\", \"of\", \"strings\"]\n",
    "n_list = [1, 2, 3, 4]\n",
    "\n",
    "s = s_list.extend(n_list)\n",
    "\n",
    "print(s_list)\n",
    "print(s)"
   ]
  },
  {
   "cell_type": "markdown",
   "metadata": {},
   "source": [
    "### `.insert(index, target_object)`\n",
    "- Mutative\n",
    "\n",
    "- No return value\n",
    "\n",
    "- Inserts the target_object at the given index\n"
   ]
  },
  {
   "cell_type": "code",
   "execution_count": null,
   "metadata": {},
   "outputs": [],
   "source": [
    "s_list = [\"list\", \"of\", \"elements\"]\n",
    "n_list = [1, 2, 3, 4]\n",
    "\n",
    "s = s_list.insert(2, n_list[3])\n",
    "\n",
    "print(s_list)\n",
    "print(s)"
   ]
  },
  {
   "cell_type": "markdown",
   "metadata": {},
   "source": [
    "### `.remove(target_element)`\n",
    "- Mutative\n",
    "\n",
    "- No return value\n",
    "\n",
    "- Removes the target element if it is present in the list, raises `ValueError` if the target element is not present"
   ]
  },
  {
   "cell_type": "code",
   "execution_count": 3,
   "metadata": {},
   "outputs": [
    {
     "name": "stdout",
     "output_type": "stream",
     "text": [
      "['of', 'elements']\n",
      "None\n"
     ]
    },
    {
     "ename": "ValueError",
     "evalue": "list.remove(x): x not in list",
     "output_type": "error",
     "traceback": [
      "\u001b[0;31m---------------------------------------------------------------------------\u001b[0m",
      "\u001b[0;31mValueError\u001b[0m                                Traceback (most recent call last)",
      "Cell \u001b[0;32mIn[3], line 8\u001b[0m\n\u001b[1;32m      5\u001b[0m \u001b[38;5;28mprint\u001b[39m(s_list)\n\u001b[1;32m      6\u001b[0m \u001b[38;5;28mprint\u001b[39m(s)\n\u001b[0;32m----> 8\u001b[0m s \u001b[38;5;241m=\u001b[39m \u001b[43ms_list\u001b[49m\u001b[38;5;241;43m.\u001b[39;49m\u001b[43mremove\u001b[49m\u001b[43m(\u001b[49m\u001b[38;5;124;43m\"\u001b[39;49m\u001b[38;5;124;43mlist\u001b[39;49m\u001b[38;5;124;43m\"\u001b[39;49m\u001b[43m)\u001b[49m\n\u001b[1;32m      9\u001b[0m \u001b[38;5;28mprint\u001b[39m(s_list)\n",
      "\u001b[0;31mValueError\u001b[0m: list.remove(x): x not in list"
     ]
    }
   ],
   "source": [
    "s_list = [\"list\", \"of\", \"elements\"]\n",
    "n_list = [1, 2, 3, 4]\n",
    "\n",
    "s = s_list.remove(\"list\")\n",
    "print(s_list)\n",
    "print(s)\n",
    "\n",
    "s = s_list.remove(\"list\")\n",
    "print(s_list)\n",
    "\n"
   ]
  },
  {
   "cell_type": "markdown",
   "metadata": {},
   "source": [
    "### `.pop(target_idx)`\n",
    "- Mutative\n",
    "\n",
    "- Removes the associated element at the target_index and returns it. If no argument is given, pop removes and returns the last element in the list"
   ]
  },
  {
   "cell_type": "code",
   "execution_count": 4,
   "metadata": {},
   "outputs": [
    {
     "name": "stdout",
     "output_type": "stream",
     "text": [
      "['list', 'elements']\n",
      "of\n",
      "['list']\n",
      "elements\n"
     ]
    }
   ],
   "source": [
    "s_list = [\"list\", \"of\", \"elements\"]\n",
    "n_list = [1, 2, 3, 4]\n",
    "\n",
    "s = s_list.pop(1)\n",
    "print(s_list)\n",
    "print(s)\n",
    "\n",
    "s = s_list.pop()\n",
    "print(s_list)\n",
    "print (s)"
   ]
  },
  {
   "cell_type": "markdown",
   "metadata": {},
   "source": [
    "### `.clear()`\n",
    "- Mutative\n",
    "\n",
    "- No return value\n",
    "\n",
    "- Removes all elements in the given list"
   ]
  },
  {
   "cell_type": "code",
   "execution_count": 5,
   "metadata": {},
   "outputs": [
    {
     "name": "stdout",
     "output_type": "stream",
     "text": [
      "[]\n",
      "None\n"
     ]
    }
   ],
   "source": [
    "s_list = [\"list\", \"of\", \"elements\"]\n",
    "\n",
    "s = s_list.clear()\n",
    "print(s_list)\n",
    "print(s)"
   ]
  },
  {
   "cell_type": "markdown",
   "metadata": {},
   "source": [
    "### `.index(target_element)`\n",
    "- Non-mutative\n",
    "\n",
    "- Returns the index of the first instance of the target_element\n",
    "\n",
    "- Returns `ValueError` if the target_element is not present in the list"
   ]
  },
  {
   "cell_type": "code",
   "execution_count": 10,
   "metadata": {},
   "outputs": [
    {
     "name": "stdout",
     "output_type": "stream",
     "text": [
      "['list', 'of', 'elements']\n",
      "2\n"
     ]
    },
    {
     "ename": "ValueError",
     "evalue": "'pizza' is not in list",
     "output_type": "error",
     "traceback": [
      "\u001b[0;31m---------------------------------------------------------------------------\u001b[0m",
      "\u001b[0;31mValueError\u001b[0m                                Traceback (most recent call last)",
      "Cell \u001b[0;32mIn[10], line 7\u001b[0m\n\u001b[1;32m      4\u001b[0m \u001b[38;5;28mprint\u001b[39m(s_list)\n\u001b[1;32m      5\u001b[0m \u001b[38;5;28mprint\u001b[39m(s)\n\u001b[0;32m----> 7\u001b[0m s \u001b[38;5;241m=\u001b[39m \u001b[43ms_list\u001b[49m\u001b[38;5;241;43m.\u001b[39;49m\u001b[43mindex\u001b[49m\u001b[43m(\u001b[49m\u001b[38;5;124;43m\"\u001b[39;49m\u001b[38;5;124;43mpizza\u001b[39;49m\u001b[38;5;124;43m\"\u001b[39;49m\u001b[43m)\u001b[49m\n",
      "\u001b[0;31mValueError\u001b[0m: 'pizza' is not in list"
     ]
    }
   ],
   "source": [
    "s_list = [\"list\", \"of\", \"elements\"]\n",
    "\n",
    "s = s_list.index(\"elements\")\n",
    "print(s_list)\n",
    "print(s)\n",
    "\n",
    "s = s_list.index(\"pizza\")"
   ]
  },
  {
   "cell_type": "markdown",
   "metadata": {},
   "source": [
    "### `.count(target_element)`\n",
    "- Non-mutative\n",
    "\n",
    "- Returns the count of the target_element, returns 0 if the element is not present in the list."
   ]
  },
  {
   "cell_type": "code",
   "execution_count": null,
   "metadata": {},
   "outputs": [
    {
     "name": "stdout",
     "output_type": "stream",
     "text": [
      "['list', 'of', 'elements']\n",
      "1\n",
      "['list', 'of', 'elements']\n",
      "0\n"
     ]
    }
   ],
   "source": [
    "s_list = [\"list\", \"of\", \"elements\"]\n",
    "\n",
    "s = s_list.count(\"elements\")\n",
    "print(s_list)\n",
    "print(s)"
   ]
  },
  {
   "cell_type": "markdown",
   "metadata": {},
   "source": [
    "### `.sort(reverse=False)`\n",
    "- Mutative\n",
    "\n",
    "- No return value\n",
    "\n",
    "- Sorts the list in ascending order, strings are sorted lexicographically\n",
    "\n",
    "- _optional:_ reverse change the direction of the sort to reverse"
   ]
  },
  {
   "cell_type": "code",
   "execution_count": 14,
   "metadata": {},
   "outputs": [
    {
     "name": "stdout",
     "output_type": "stream",
     "text": [
      "['elements', 'list', 'of']\n",
      "None\n",
      "[4, 3, 2, 1]\n",
      "None\n"
     ]
    }
   ],
   "source": [
    "s_list = [\"list\", \"of\", \"elements\"]\n",
    "n_list = [1, 2, 3, 4]\n",
    "\n",
    "s = s_list.sort()\n",
    "print(s_list)\n",
    "print(s)\n",
    "\n",
    "n = n_list.sort(reverse=True)\n",
    "print(n_list)\n",
    "print(n)"
   ]
  },
  {
   "cell_type": "markdown",
   "metadata": {},
   "source": [
    "### `.reverse()`\n",
    "- Mutative\n",
    "\n",
    "- No return value\n",
    "\n",
    "- Reverses the given list"
   ]
  },
  {
   "cell_type": "code",
   "execution_count": 15,
   "metadata": {},
   "outputs": [
    {
     "name": "stdout",
     "output_type": "stream",
     "text": [
      "['elements', 'of', 'list']\n",
      "None\n",
      "[4, 3, 2, 1]\n",
      "None\n"
     ]
    }
   ],
   "source": [
    "s_list = [\"list\", \"of\", \"elements\"]\n",
    "n_list = [1, 2, 3, 4]\n",
    "\n",
    "s = s_list.reverse()\n",
    "print(s_list)\n",
    "print(s)\n",
    "\n",
    "n = n_list.reverse()\n",
    "print(n_list)\n",
    "print(n)"
   ]
  },
  {
   "cell_type": "markdown",
   "metadata": {},
   "source": [
    "### `.copy()`\n",
    "\n",
    "- Non-mutative\n",
    "\n",
    "- Returns a shallow copy of the list copy is called on\n"
   ]
  },
  {
   "cell_type": "code",
   "execution_count": 19,
   "metadata": {},
   "outputs": [
    {
     "name": "stdout",
     "output_type": "stream",
     "text": [
      "['list', 'of', 'elements']\n",
      "['list', 'of', 'elements']\n",
      "False\n",
      "[1, 2, [3], 4]\n",
      "[1, 2, [3], 4]\n",
      "True\n"
     ]
    }
   ],
   "source": [
    "s_list = [\"list\", \"of\", \"elements\"]\n",
    "n_list = [1, 2, [3], 4]\n",
    "\n",
    "s = s_list.copy()\n",
    "print(s_list)\n",
    "print(s)\n",
    "print(s_list is s)\n",
    "\n",
    "n = n_list.copy()\n",
    "print(n_list)\n",
    "print(n)\n",
    "print(n_list[2] is n[2])"
   ]
  },
  {
   "cell_type": "markdown",
   "metadata": {},
   "source": [
    "## [dict methods](https://launchschool.com/lessons/1b66cd61/assignments/cf779435): "
   ]
  },
  {
   "cell_type": "markdown",
   "metadata": {},
   "source": [
    "### `.keys()`\n",
    "- Non-mutative\n",
    "\n",
    "- Returns a `dict_view` object of the keys of the dictionary"
   ]
  },
  {
   "cell_type": "code",
   "execution_count": 20,
   "metadata": {},
   "outputs": [
    {
     "name": "stdout",
     "output_type": "stream",
     "text": [
      "dict_keys([1, 2, 3, 4])\n",
      "True\n"
     ]
    }
   ],
   "source": [
    "d = {1: \"I\", 2: \"am\", 3: \"a\", 4: \"dictionary\"}\n",
    "\n",
    "print(d.keys())\n",
    "print(d == {1: \"I\", 2: \"am\", 3: \"a\", 4: \"dictionary\"})"
   ]
  },
  {
   "cell_type": "markdown",
   "metadata": {},
   "source": [
    "### `.values()`\n",
    "- Non-mutative\n",
    "\n",
    "- Returns a `dict_view` object of the values of the dictionary"
   ]
  },
  {
   "cell_type": "code",
   "execution_count": 21,
   "metadata": {},
   "outputs": [
    {
     "name": "stdout",
     "output_type": "stream",
     "text": [
      "dict_values(['I', 'am', 'a', 'dictionary'])\n",
      "True\n"
     ]
    }
   ],
   "source": [
    "d = {1: \"I\", 2: \"am\", 3: \"a\", 4: \"dictionary\"}\n",
    "\n",
    "print(d.values())\n",
    "print(d == {1: \"I\", 2: \"am\", 3: \"a\", 4: \"dictionary\"})"
   ]
  },
  {
   "cell_type": "markdown",
   "metadata": {},
   "source": [
    "### `.items()`\n",
    "- Non-mutative\n",
    "\n",
    "- Returns a `dict_view` object of the items of the dictionary in the form: `(key, value)`"
   ]
  },
  {
   "cell_type": "code",
   "execution_count": 22,
   "metadata": {},
   "outputs": [
    {
     "name": "stdout",
     "output_type": "stream",
     "text": [
      "dict_items([(1, 'I'), (2, 'am'), (3, 'a'), (4, 'dictionary')])\n",
      "True\n"
     ]
    }
   ],
   "source": [
    "d = {1: \"I\", 2: \"am\", 3: \"a\", 4: \"dictionary\"}\n",
    "\n",
    "print(d.items())\n",
    "print(d == {1: \"I\", 2: \"am\", 3: \"a\", 4: \"dictionary\"})"
   ]
  },
  {
   "cell_type": "markdown",
   "metadata": {},
   "source": [
    "### `.get(key, default_value)`\n",
    "- Non-mutative\n",
    "\n",
    "- Returns the given key, or the _optional_ default value"
   ]
  },
  {
   "cell_type": "code",
   "execution_count": 23,
   "metadata": {},
   "outputs": [
    {
     "name": "stdout",
     "output_type": "stream",
     "text": [
      "I\n",
      "There is no key 5\n",
      "True\n"
     ]
    }
   ],
   "source": [
    "d = {1: \"I\", 2: \"am\", 3: \"a\", 4: \"dictionary\"}\n",
    "\n",
    "print(d.get(1))\n",
    "print(d.get(5, \"There is no key 5\"))\n",
    "print(d == {1: \"I\", 2: \"am\", 3: \"a\", 4: \"dictionary\"})"
   ]
  },
  {
   "cell_type": "markdown",
   "metadata": {},
   "source": [
    "### `.setdefault(key, default)`\n",
    "- Mutative\n",
    "\n",
    "- Sets the defualt value at the given key, if the key is not already present in the dictionary. Returns the current value if the key is already present in the dictionary."
   ]
  },
  {
   "cell_type": "code",
   "execution_count": 25,
   "metadata": {},
   "outputs": [
    {
     "name": "stdout",
     "output_type": "stream",
     "text": [
      "I\n",
      "5\n",
      "False\n"
     ]
    }
   ],
   "source": [
    "d = {1: \"I\", 2: \"am\", 3: \"a\", 4: \"dictionary\"}\n",
    "\n",
    "print(d.setdefault(1, \"i\"))\n",
    "print(d.setdefault(5, 5))\n",
    "print(d == {1: \"I\", 2: \"am\", 3: \"a\", 4: \"dictionary\"})"
   ]
  },
  {
   "cell_type": "markdown",
   "metadata": {},
   "source": [
    "### `.update(key, value)`\n",
    "- Mutative\n",
    "\n",
    "- No return value\n",
    "\n",
    "- Updates the dictionary with the key, value pairs from anothe dictionary or list of iterables with 2 values"
   ]
  },
  {
   "cell_type": "code",
   "execution_count": 35,
   "metadata": {},
   "outputs": [
    {
     "name": "stdout",
     "output_type": "stream",
     "text": [
      "{1: 'i', 2: 'am', 3: 'a', 4: 'dictionary'}\n",
      "None\n",
      "{1: 'i', 2: 'am', 3: 'a', 4: 'dictionary', 5: 'of', 6: 'string', 7: 'values'}\n",
      "False\n"
     ]
    }
   ],
   "source": [
    "d = {1: \"I\", 2: \"am\", 3: \"a\", 4: \"dictionary\"}\n",
    "\n",
    "u = d.update({1: \"i\"})\n",
    "print(d)\n",
    "print(u)\n",
    "\n",
    "d.update([(5, \"of\"), (6, \"string\"), (7, \"values\")])\n",
    "print(d)\n",
    "\n",
    "print(d == u)"
   ]
  },
  {
   "cell_type": "markdown",
   "metadata": {},
   "source": [
    "### `.pop(key)`\n",
    "- Mutative\n",
    "\n",
    "- Returns the key removed from the dictionary. Raises a `KeyError` of the provided key is not present in the dictionary"
   ]
  },
  {
   "cell_type": "code",
   "execution_count": 38,
   "metadata": {},
   "outputs": [
    {
     "name": "stdout",
     "output_type": "stream",
     "text": [
      "I\n",
      "{2: 'am', 3: 'a', 4: 'dictionary'}\n"
     ]
    },
    {
     "ename": "KeyError",
     "evalue": "5",
     "output_type": "error",
     "traceback": [
      "\u001b[0;31m---------------------------------------------------------------------------\u001b[0m",
      "\u001b[0;31mKeyError\u001b[0m                                  Traceback (most recent call last)",
      "Cell \u001b[0;32mIn[38], line 7\u001b[0m\n\u001b[1;32m      4\u001b[0m \u001b[38;5;28mprint\u001b[39m(p)\n\u001b[1;32m      5\u001b[0m \u001b[38;5;28mprint\u001b[39m(d)\n\u001b[0;32m----> 7\u001b[0m p \u001b[38;5;241m=\u001b[39m \u001b[43md\u001b[49m\u001b[38;5;241;43m.\u001b[39;49m\u001b[43mpop\u001b[49m\u001b[43m(\u001b[49m\u001b[38;5;241;43m5\u001b[39;49m\u001b[43m)\u001b[49m\n\u001b[1;32m      8\u001b[0m \u001b[38;5;28mprint\u001b[39m(p)\n\u001b[1;32m      9\u001b[0m \u001b[38;5;28mprint\u001b[39m(d)\n",
      "\u001b[0;31mKeyError\u001b[0m: 5"
     ]
    }
   ],
   "source": [
    "d = {1: \"I\", 2: \"am\", 3: \"a\", 4: \"dictionary\"}\n",
    "\n",
    "p = d.pop(1)\n",
    "print(p)\n",
    "print(d)\n",
    "\n",
    "p = d.pop(5)\n",
    "print(p)\n",
    "print(d)"
   ]
  },
  {
   "cell_type": "markdown",
   "metadata": {},
   "source": [
    "### `.popitem()`\n",
    "- Mutative\n",
    "\n",
    "- Returns the last inserted (key, value) removed from the dictionary _(when using Python 3.7 or later)_. Raises a KeyError if the dictionary is empty"
   ]
  },
  {
   "cell_type": "code",
   "execution_count": 44,
   "metadata": {},
   "outputs": [
    {
     "name": "stdout",
     "output_type": "stream",
     "text": [
      "(4, 'dictionary')\n",
      "{1: 'I', 2: 'am', 3: 'a'}\n"
     ]
    },
    {
     "ename": "KeyError",
     "evalue": "'popitem(): dictionary is empty'",
     "output_type": "error",
     "traceback": [
      "\u001b[0;31m---------------------------------------------------------------------------\u001b[0m",
      "\u001b[0;31mKeyError\u001b[0m                                  Traceback (most recent call last)",
      "Cell \u001b[0;32mIn[44], line 8\u001b[0m\n\u001b[1;32m      5\u001b[0m \u001b[38;5;28mprint\u001b[39m(d)\n\u001b[1;32m      7\u001b[0m d\u001b[38;5;241m.\u001b[39mclear()\n\u001b[0;32m----> 8\u001b[0m p \u001b[38;5;241m=\u001b[39m \u001b[43md\u001b[49m\u001b[38;5;241;43m.\u001b[39;49m\u001b[43mpopitem\u001b[49m\u001b[43m(\u001b[49m\u001b[43m)\u001b[49m\n",
      "\u001b[0;31mKeyError\u001b[0m: 'popitem(): dictionary is empty'"
     ]
    }
   ],
   "source": [
    "d = {1: \"I\", 2: \"am\", 3: \"a\", 4: \"dictionary\"}\n",
    "\n",
    "p = d.popitem()\n",
    "print(p)\n",
    "print(d)\n",
    "\n",
    "d.clear()\n",
    "p = d.popitem()"
   ]
  },
  {
   "cell_type": "markdown",
   "metadata": {},
   "source": [
    "### `.clear()`\n",
    "- Mutative\n",
    "\n",
    "- No return value\n",
    "\n",
    "- Removes all key, value pairs from the provided dictionary"
   ]
  },
  {
   "cell_type": "code",
   "execution_count": 45,
   "metadata": {},
   "outputs": [
    {
     "name": "stdout",
     "output_type": "stream",
     "text": [
      "None\n",
      "{}\n"
     ]
    }
   ],
   "source": [
    "d = {1: \"I\", 2: \"am\", 3: \"a\", 4: \"dictionary\"}\n",
    "\n",
    "c = d.clear()\n",
    "print(c)\n",
    "print(d)"
   ]
  },
  {
   "cell_type": "markdown",
   "metadata": {},
   "source": [
    "## [set methods](https://launchschool.com/lessons/1b66cd61/assignments/cf779435): "
   ]
  },
  {
   "cell_type": "markdown",
   "metadata": {},
   "source": [
    "### `.add(element)`\n",
    "- Mutative\n",
    "\n",
    "- No return value\n",
    "\n",
    "- Adds the given element to the set if it is not already present in the set"
   ]
  },
  {
   "cell_type": "code",
   "execution_count": null,
   "metadata": {},
   "outputs": [
    {
     "name": "stdout",
     "output_type": "stream",
     "text": [
      "{'set', 'of strings', 'I', 'a', 'am'}\n",
      "None\n"
     ]
    }
   ],
   "source": [
    "s = {\"I\", \"am\", \"a\", \"set\"}\n",
    "\n",
    "a = s.add(\"of strings\")\n",
    "print(s)\n",
    "print(a)\n"
   ]
  },
  {
   "cell_type": "markdown",
   "metadata": {},
   "source": [
    "### `.update(iterable)`\n",
    "- Mutative\n",
    "\n",
    "- No return value\n",
    "\n",
    "- Updates the given set with the iterable passed to update"
   ]
  },
  {
   "cell_type": "code",
   "execution_count": 55,
   "metadata": {},
   "outputs": [
    {
     "name": "stdout",
     "output_type": "stream",
     "text": [
      "{'set', 'of', 'I', 'a', 'am'}\n",
      "None\n",
      "{'set', 'of', 'I', 'a', 'strings', 'am'}\n"
     ]
    }
   ],
   "source": [
    "s = {\"I\", \"am\", \"a\", \"set\"}\n",
    "\n",
    "a = s.update([\"of\"])\n",
    "print(s)\n",
    "print(a)\n",
    "\n",
    "s.update([\"of\", \"strings\"])\n",
    "print(s)\n"
   ]
  },
  {
   "cell_type": "markdown",
   "metadata": {},
   "source": [
    "### `.remove(element)`\n",
    "- Mutative\n",
    "\n",
    "- No return value\n",
    "\n",
    "- Removes the given element from the set"
   ]
  },
  {
   "cell_type": "code",
   "execution_count": 59,
   "metadata": {},
   "outputs": [
    {
     "name": "stdout",
     "output_type": "stream",
     "text": [
      "{'am', 'set', 'I'}\n",
      "None\n"
     ]
    }
   ],
   "source": [
    "s = {\"I\", \"am\", \"a\", \"set\"}\n",
    "\n",
    "r = s.remove(\"a\")\n",
    "print(s)\n",
    "print(r)"
   ]
  },
  {
   "cell_type": "markdown",
   "metadata": {},
   "source": [
    "### `.clear()`\n",
    "- Mutative\n",
    "\n",
    "- No return value\n",
    "\n",
    "- Removes all elements in the given set"
   ]
  },
  {
   "cell_type": "code",
   "execution_count": 60,
   "metadata": {},
   "outputs": [
    {
     "name": "stdout",
     "output_type": "stream",
     "text": [
      "set()\n",
      "None\n"
     ]
    }
   ],
   "source": [
    "s = {\"I\", \"am\", \"a\", \"set\"}\n",
    "\n",
    "c = s.clear()\n",
    "print(s)\n",
    "print(c)"
   ]
  },
  {
   "cell_type": "markdown",
   "metadata": {},
   "source": [
    "### `.union(iterable)`\n",
    "- Non-mutative\n",
    "\n",
    "- Returns the union of the given set with iterable"
   ]
  },
  {
   "cell_type": "code",
   "execution_count": null,
   "metadata": {},
   "outputs": [
    {
     "name": "stdout",
     "output_type": "stream",
     "text": [
      "{'am', 'set', 'a', 'I'}\n",
      "['me', 'too']\n",
      "{'set', 'me', 'I', 'too', 'a', 'am'}\n"
     ]
    }
   ],
   "source": [
    "s1 = {\"I\", \"am\", \"a\", \"set\"}\n",
    "s2 = {\"me\", \"too\"}\n",
    "\n",
    "u = s1.union(s2)\n",
    "\n",
    "print(s1)\n",
    "print(s2)\n",
    "print(u)"
   ]
  },
  {
   "cell_type": "markdown",
   "metadata": {},
   "source": [
    "### `.intesection(iterable)`\n",
    "- Non-mutative\n",
    "\n",
    "- Returns the intersection of the given set and iterable"
   ]
  },
  {
   "cell_type": "code",
   "execution_count": 62,
   "metadata": {},
   "outputs": [
    {
     "name": "stdout",
     "output_type": "stream",
     "text": [
      "{'am', 'set', 'a', 'I'}\n",
      "{'am', 'too', 'I'}\n",
      "{'am', 'I'}\n"
     ]
    }
   ],
   "source": [
    "s1 = {\"I\", \"am\", \"a\", \"set\"}\n",
    "s2 = {\"I\", \"am\", \"too\"}\n",
    "\n",
    "u = s1.intersection(s2)\n",
    "\n",
    "print(s1)\n",
    "print(s2)\n",
    "print(u)"
   ]
  },
  {
   "cell_type": "markdown",
   "metadata": {},
   "source": [
    "### `.difference(iterable)`\n",
    "- Non-mutative\n",
    "\n",
    "- Returns the difference of given set minus the iterable"
   ]
  },
  {
   "cell_type": "code",
   "execution_count": 66,
   "metadata": {},
   "outputs": [
    {
     "name": "stdout",
     "output_type": "stream",
     "text": [
      "{'am', 'set', 'a', 'I'}\n",
      "{'am', 'too', 'I'}\n",
      "{'set', 'a'}\n",
      "{'am', 'set', 'a', 'I'}\n",
      "{'am', 'too', 'I'}\n",
      "{'too'}\n"
     ]
    }
   ],
   "source": [
    "s1 = {\"I\", \"am\", \"a\", \"set\"}\n",
    "s2 = {\"I\", \"am\", \"too\"}\n",
    "d1 = s1.difference(s2)\n",
    "print(s1)\n",
    "print(s2)\n",
    "print(d1)\n",
    "\n",
    "s1 = {\"I\", \"am\", \"a\", \"set\"}\n",
    "s2 = {\"I\", \"am\", \"too\"}\n",
    "d2 = s2.difference(s1)\n",
    "print(s1)\n",
    "print(s2)\n",
    "print(d2)"
   ]
  },
  {
   "cell_type": "markdown",
   "metadata": {},
   "source": [
    "### `.issubset(iterable)`\n",
    "- Non-mutative\n",
    "\n",
    "- Returns True if the given set is a subset of iterable, False otherwise"
   ]
  },
  {
   "cell_type": "code",
   "execution_count": 71,
   "metadata": {},
   "outputs": [
    {
     "name": "stdout",
     "output_type": "stream",
     "text": [
      "{'am', 'set', 'a', 'I'}\n",
      "{'am', 'set', 'I'}\n",
      "True\n"
     ]
    }
   ],
   "source": [
    "s1 = {\"I\", \"am\", \"a\", \"set\"}\n",
    "s2 = {\"I\", \"am\", \"set\"}\n",
    "ss = s2.issubset(s1)\n",
    "print(s1)\n",
    "print(s2)\n",
    "print(ss)"
   ]
  },
  {
   "cell_type": "markdown",
   "metadata": {},
   "source": [
    "### `.issuperset(iterable)`\n",
    "- Non-mutative\n",
    "\n",
    "- Returns True if the given set is a superset of iterable, False otherwise"
   ]
  },
  {
   "cell_type": "code",
   "execution_count": 72,
   "metadata": {},
   "outputs": [
    {
     "name": "stdout",
     "output_type": "stream",
     "text": [
      "{'am', 'set', 'a', 'I'}\n",
      "{'am', 'set', 'I'}\n",
      "True\n"
     ]
    }
   ],
   "source": [
    "s1 = {\"I\", \"am\", \"a\", \"set\"}\n",
    "s2 = {\"I\", \"am\", \"set\"}\n",
    "ss = s1.issuperset(s2)\n",
    "print(s1)\n",
    "print(s2)\n",
    "print(ss)"
   ]
  },
  {
   "cell_type": "markdown",
   "metadata": {},
   "source": [
    "### `.isdisjoint(iterable)`\n",
    "- Non-mutative\n",
    "\n",
    "- Returns True if the given set and iterable are disjoint, False otherwise"
   ]
  },
  {
   "cell_type": "code",
   "execution_count": 75,
   "metadata": {},
   "outputs": [
    {
     "name": "stdout",
     "output_type": "stream",
     "text": [
      "{'am', 'set', 'a', 'I'}\n",
      "{'way', 'no'}\n",
      "True\n"
     ]
    }
   ],
   "source": [
    "s1 = {\"I\", \"am\", \"a\", \"set\"}\n",
    "s2 = {\"no\", \"way\"}\n",
    "ss = s1.isdisjoint([2])\n",
    "print(s1)\n",
    "print(s2)\n",
    "print(ss)"
   ]
  },
  {
   "cell_type": "markdown",
   "metadata": {},
   "source": [
    "## [frozenset methods](https://launchschool.com/lessons/1b66cd61/assignments/cf779435):"
   ]
  },
  {
   "cell_type": "markdown",
   "metadata": {},
   "source": [
    "### `.union(iterable)`\n",
    "- Non-mutative\n",
    "\n",
    "- Returns the union of the given set with iterable"
   ]
  },
  {
   "cell_type": "code",
   "execution_count": null,
   "metadata": {},
   "outputs": [
    {
     "name": "stdout",
     "output_type": "stream",
     "text": [
      "frozenset({'set', 'I', 'am', 'a', 'frozen'})\n",
      "frozenset({'me', 'too'})\n",
      "frozenset({'set', 1, 'I', 'am', 'a', 'frozen'})\n"
     ]
    }
   ],
   "source": [
    "s1 = frozenset({\"I\", \"am\", \"a\",\"frozen\", \"set\"})\n",
    "s2 = frozenset({\"me\", \"too\"})\n",
    "\n",
    "u = s1.union(s2)\n",
    "\n",
    "print(s1)\n",
    "print(s2)\n",
    "print(u)"
   ]
  },
  {
   "cell_type": "markdown",
   "metadata": {},
   "source": [
    "### `.intersection()`\n",
    "- Non-mutative\n",
    "\n",
    "- Returns the intersection of the given set and iterable"
   ]
  },
  {
   "cell_type": "code",
   "execution_count": 84,
   "metadata": {},
   "outputs": [
    {
     "name": "stdout",
     "output_type": "stream",
     "text": [
      "frozenset({'set', 'I', 'am', 'a', 'frozen'})\n",
      "['I', 'am', 'not']\n",
      "frozenset({'am', 'I'})\n"
     ]
    }
   ],
   "source": [
    "s = frozenset({\"I\", \"am\", \"a\",\"frozen\", \"set\"})\n",
    "l = [\"I\", \"am\", \"not\"]\n",
    "\n",
    "u = s1.intersection(l)\n",
    "\n",
    "print(s1)\n",
    "print(s2)\n",
    "print(u)"
   ]
  },
  {
   "cell_type": "markdown",
   "metadata": {},
   "source": [
    "### `.difference(iterable)`\n",
    "- Non-mutative\n",
    "\n",
    "- Returns the difference of given set minus the iterable"
   ]
  },
  {
   "cell_type": "code",
   "execution_count": 86,
   "metadata": {},
   "outputs": [
    {
     "name": "stdout",
     "output_type": "stream",
     "text": [
      "frozenset({'am', 'set', 'a', 'I'})\n",
      "frozenset({'am', 'too', 'I'})\n",
      "frozenset({'set', 'a'})\n",
      "frozenset({'am', 'set', 'a', 'I'})\n",
      "frozenset({'am', 'too', 'I'})\n",
      "frozenset({'too'})\n"
     ]
    }
   ],
   "source": [
    "s1 = frozenset({\"I\", \"am\", \"a\", \"set\"})\n",
    "s2 = frozenset({\"I\", \"am\", \"too\"})\n",
    "d1 = s1.difference(s2)\n",
    "print(s1)\n",
    "print(s2)\n",
    "print(d1)\n",
    "\n",
    "s1 = frozenset({\"I\", \"am\", \"a\", \"set\"})\n",
    "s2 = frozenset({\"I\", \"am\", \"too\"})\n",
    "d2 = s2.difference(s1)\n",
    "print(s1)\n",
    "print(s2)\n",
    "print(d2)"
   ]
  },
  {
   "cell_type": "markdown",
   "metadata": {},
   "source": [
    "### `.issubset(iterable)`\n",
    "- Non-mutative\n",
    "\n",
    "- Returns True if the given set is a subset of iterable, False otherwise"
   ]
  },
  {
   "cell_type": "code",
   "execution_count": 89,
   "metadata": {},
   "outputs": [
    {
     "name": "stdout",
     "output_type": "stream",
     "text": [
      "frozenset({'am', 'set', 'a', 'I'})\n",
      "frozenset({'am', 'set', 'I'})\n",
      "True\n"
     ]
    }
   ],
   "source": [
    "s1 = frozenset({\"I\", \"am\", \"a\", \"set\"})\n",
    "s2 = frozenset({\"I\", \"am\", \"set\"})\n",
    "ss = s2.issubset(s1)\n",
    "print(s1)\n",
    "print(s2)\n",
    "print(ss)"
   ]
  },
  {
   "cell_type": "markdown",
   "metadata": {},
   "source": [
    "### `.issuperset(iterable)`\n",
    "- Non-mutative\n",
    "\n",
    "- Returns True if the given set is a superset of iterable, False otherwise"
   ]
  },
  {
   "cell_type": "code",
   "execution_count": 90,
   "metadata": {},
   "outputs": [
    {
     "name": "stdout",
     "output_type": "stream",
     "text": [
      "frozenset({'set', 'I', 'am', 'a', 'frozen'})\n",
      "{'am', 'set', 'I'}\n",
      "True\n"
     ]
    }
   ],
   "source": [
    "s1 = frozenset({\"I\", \"am\", \"a\", \"frozen\", \"set\"})\n",
    "s2 = {\"I\", \"am\", \"set\"}\n",
    "ss = s1.issuperset(s2)\n",
    "print(s1)\n",
    "print(s2)\n",
    "print(ss)"
   ]
  },
  {
   "cell_type": "markdown",
   "metadata": {},
   "source": [
    "### `.isdisjoint(iterable)`\n",
    "- Non-mutative\n",
    "\n",
    "- Returns True if the given set and iterable are disjoint, False otherwise"
   ]
  },
  {
   "cell_type": "code",
   "execution_count": 92,
   "metadata": {},
   "outputs": [
    {
     "name": "stdout",
     "output_type": "stream",
     "text": [
      "frozenset({'am', 'set', 'a', 'I'})\n",
      "['no', 'way']\n",
      "True\n"
     ]
    }
   ],
   "source": [
    "s1 = frozenset({\"I\", \"am\", \"a\", \"set\"})\n",
    "s2 = [\"no\", \"way\"]\n",
    "ss = s1.isdisjoint([2])\n",
    "print(s1)\n",
    "print(s2)\n",
    "print(ss)"
   ]
  },
  {
   "cell_type": "markdown",
   "metadata": {},
   "source": [
    "## [tuple methods](https://launchschool.com/lessons/1b66cd61/assignments/6992af5a):"
   ]
  },
  {
   "cell_type": "markdown",
   "metadata": {},
   "source": [
    "## [range and enumerate](https://launchschool.com/lessons/1b66cd61/assignments/ec6f2031):"
   ]
  },
  {
   "cell_type": "markdown",
   "metadata": {},
   "source": [
    "## built-in functions "
   ]
  },
  {
   "cell_type": "markdown",
   "metadata": {},
   "source": [
    "## [sorting](https://launchschool.com/lessons/76ecb255/assignments/6a0df143):"
   ]
  },
  {
   "cell_type": "markdown",
   "metadata": {},
   "source": [
    "## [comprehensions](https://launchschool.com/lessons/76ecb255/assignments/5780058f):"
   ]
  },
  {
   "cell_type": "markdown",
   "metadata": {},
   "source": [
    "## [nested data structures and nested iteration](https://launchschool.com/lessons/76ecb255/assignments/fe31086e):"
   ]
  }
 ],
 "metadata": {
  "kernelspec": {
   "display_name": "Python 3",
   "language": "python",
   "name": "python3"
  },
  "language_info": {
   "codemirror_mode": {
    "name": "ipython",
    "version": 3
   },
   "file_extension": ".py",
   "mimetype": "text/x-python",
   "name": "python",
   "nbconvert_exporter": "python",
   "pygments_lexer": "ipython3",
   "version": "3.13.1"
  }
 },
 "nbformat": 4,
 "nbformat_minor": 2
}

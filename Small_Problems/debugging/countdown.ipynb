{
 "cells": [
  {
   "cell_type": "markdown",
   "metadata": {},
   "source": [
    "# Countdown\n",
    "\n",
    "Our countdown to launch isn't behaving as expected. Why? Change the code so that our program successfully counts down from 10 to 1 before launching."
   ]
  },
  {
   "cell_type": "code",
   "execution_count": null,
   "metadata": {},
   "outputs": [
    {
     "name": "stdout",
     "output_type": "stream",
     "text": [
      "4330400640\n",
      "4330400608\n",
      "4330400576\n",
      "4330400544\n",
      "4330400512\n",
      "4330400480\n",
      "4330400448\n",
      "4330400416\n",
      "4330400384\n",
      "4330400352\n",
      "4330400320\n",
      "LAUNCH!\n"
     ]
    }
   ],
   "source": [
    "def decrease(counter):\n",
    "    return counter - 1\n",
    "\n",
    "counter = 10\n",
    "\n",
    "for _ in range(10):\n",
    "    decrease(counter)\n",
    "\n",
    "print('LAUNCH!')"
   ]
  },
  {
   "cell_type": "markdown",
   "metadata": {},
   "source": [
    "The bug in this instance comes from the fact that Python is pass-by-object reference. `counter` is defined on line 4 in the global scope, and then passed into the `decrease` function, in the context of a for loop, on line 8. Since variables in python are pointers to objects, `counter` is specifically pointing to the integer value`10` somewhere in memory. \n",
    "\n",
    "To make things a more little confusing, the `decrease` function definition on line 1 has a single parameter, also named `counter`. In the context of `decrease`, the local variable `context` has the integer value 1 subtracted from it, and the result of this subtraction expression is returned, leading some to possibly _think_ that `counter` will now be pointing to an integer value that is one less than it was.\n",
    "\n",
    "When the global variable `counter` is passed as an argument to `decrease` on line 8, python behaves a bit like pass by value, since the object that counter is pointing to is an immutable type _(in this case, an integer)_. When the subtraction expression evaluates, a new integer value is returned on line 2, but `counter` continues to point to the same integer value in memory that it had before the subtraction.\n",
    "\n",
    "The fix for this is relativly straightforward. Using reassignment for `counter` on line 8, `decrease` will return the decreased integer value, and that will reassign the global `counter` variable to the decremented value."
   ]
  },
  {
   "cell_type": "code",
   "execution_count": 6,
   "metadata": {},
   "outputs": [
    {
     "name": "stdout",
     "output_type": "stream",
     "text": [
      "10\n",
      "9\n",
      "8\n",
      "7\n",
      "6\n",
      "5\n",
      "4\n",
      "3\n",
      "2\n",
      "1\n",
      "LAUNCH!\n"
     ]
    }
   ],
   "source": [
    "def decrease(counter):\n",
    "    return counter - 1\n",
    "\n",
    "counter = 10\n",
    "\n",
    "for _ in range(10):\n",
    "    print(counter)\n",
    "    counter = decrease(counter)\n",
    "\n",
    "print('LAUNCH!')"
   ]
  },
  {
   "cell_type": "markdown",
   "metadata": {},
   "source": [
    "*Note:* a simplier solution would be to remove the `decrease` helper function entirely and simply use augmented assignment on line 8 with subtraction instead.  This would reduce the amount of code, and arguably increase readability."
   ]
  },
  {
   "cell_type": "code",
   "execution_count": 7,
   "metadata": {},
   "outputs": [
    {
     "name": "stdout",
     "output_type": "stream",
     "text": [
      "10\n",
      "9\n",
      "8\n",
      "7\n",
      "6\n",
      "5\n",
      "4\n",
      "3\n",
      "2\n",
      "1\n",
      "LAUNCH!\n"
     ]
    }
   ],
   "source": [
    "counter = 10\n",
    "\n",
    "for _ in range(10):\n",
    "    print(counter)\n",
    "    counter -= 1\n",
    "\n",
    "print('LAUNCH!')"
   ]
  }
 ],
 "metadata": {
  "kernelspec": {
   "display_name": "Python 3",
   "language": "python",
   "name": "python3"
  },
  "language_info": {
   "codemirror_mode": {
    "name": "ipython",
    "version": 3
   },
   "file_extension": ".py",
   "mimetype": "text/x-python",
   "name": "python",
   "nbconvert_exporter": "python",
   "pygments_lexer": "ipython3",
   "version": "3.13.1"
  }
 },
 "nbformat": 4,
 "nbformat_minor": 2
}

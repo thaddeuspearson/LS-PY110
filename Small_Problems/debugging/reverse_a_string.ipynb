{
 "cells": [
  {
   "cell_type": "markdown",
   "metadata": {},
   "source": [
    "# Reverse a String\n",
    "---\n",
    "\n",
    "## Problem\n",
    "You have a function that is supposed to reverse a string passed as an argument. However, it's not producing the expected output. Explain the bug, and provide a solution."
   ]
  },
  {
   "cell_type": "code",
   "execution_count": null,
   "metadata": {},
   "outputs": [],
   "source": [
    "def reverse_string(string):\n",
    "    for char in string:\n",
    "        string = char + string\n",
    "\n",
    "    return string\n",
    "\n",
    "print(reverse_string(\"hello\")  == \"olleh\")"
   ]
  },
  {
   "cell_type": "markdown",
   "metadata": {},
   "source": [
    "## Explanation\n",
    "\n",
    "The issue with the code as written is that string is not an empty string when the for loop is on the first iteration. Within the context of the for loop defined on line 3 in `reverse_function`, the local variable `string` is being reassigned to the concatenation of the current `char` + the current value of `string` in the current iteration.\n",
    "\n",
    "Since `string` is pointing at `\"hello\"` in memory, in the first execution of the loop, `string` is reassigned to the value of `char` (`h`) + `string` (`\"hello\"`), which results in `\"hhello\"`. This continues with each iteration, appending each character in `string` at the beginning and reassigning `string` to the result of this concatenation, ending with the value `ollehhello`.\n",
    "\n",
    "## Solution\n",
    "\n",
    "In order to make this approach work, `string` needs to be reassigned to an empty string literal for the first interation of the for loop. In order to accomplish this, a conditional check needs to be used in conjunction with accessing the index of the character using `enumerate` in the loop definition, like this:"
   ]
  },
  {
   "cell_type": "code",
   "execution_count": null,
   "metadata": {},
   "outputs": [],
   "source": [
    "def reverse_string(string):\n",
    "    for idx, char in enumerate(string):\n",
    "        if idx == 0:\n",
    "            string = ''\n",
    "        string = char + string\n",
    "\n",
    "    return string\n",
    "\n",
    "print(reverse_string(\"hello\")  == \"olleh\")"
   ]
  },
  {
   "cell_type": "markdown",
   "metadata": {},
   "source": [
    "While this solves the bug, reassigning `string` in the context of a loop that is iterating through it is not a best practice, and this code is arguably more complex than it needs to be. Python has several ways to reverse a string that use much less code than this. Slicing is my personal favorite, and probably the most pythonic and readable approach:"
   ]
  },
  {
   "cell_type": "code",
   "execution_count": null,
   "metadata": {},
   "outputs": [],
   "source": [
    "def reverse_string(string):\n",
    "    return string[::-1]\n",
    "\n",
    "print(reverse_string(\"hello\")  == \"olleh\")"
   ]
  },
  {
   "cell_type": "markdown",
   "metadata": {},
   "source": [
    "Another way would be to leverage string indexing with `range()` in conjunction with `len()` in the for loop, count backwards, and concatenate the current index of the string with each iteration:"
   ]
  },
  {
   "cell_type": "code",
   "execution_count": null,
   "metadata": {},
   "outputs": [],
   "source": [
    "def reverse_string(string):\n",
    "    return_str = ''\n",
    "    \n",
    "    for i in range(len(string)-1, -1, -1):\n",
    "        return_str += string[i]\n",
    "    return return_str\n",
    "\n",
    "print(reverse_string(\"hello\")  == \"olleh\")"
   ]
  }
 ],
 "metadata": {
  "kernelspec": {
   "display_name": ".venv",
   "language": "python",
   "name": "python3"
  },
  "language_info": {
   "codemirror_mode": {
    "name": "ipython",
    "version": 3
   },
   "file_extension": ".py",
   "mimetype": "text/x-python",
   "name": "python",
   "nbconvert_exporter": "python",
   "pygments_lexer": "ipython3",
   "version": "3.13.1"
  }
 },
 "nbformat": 4,
 "nbformat_minor": 2
}

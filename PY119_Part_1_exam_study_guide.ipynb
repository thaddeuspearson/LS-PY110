{
 "cells": [
  {
   "cell_type": "markdown",
   "metadata": {},
   "source": [
    "# PY119 Part 1: Exam Study Guide\n",
    "---"
   ]
  },
  {
   "cell_type": "markdown",
   "metadata": {},
   "source": [
    "## [str methods](https://launchschool.com/lessons/1b66cd61/assignments/ec6f2031): "
   ]
  },
  {
   "cell_type": "markdown",
   "metadata": {},
   "source": [
    "### `.index(target)`\n",
    "- Gets the index of the first instance of the given target\n",
    "\n",
    "- Raises `ValueError` if the given target is not found in the string"
   ]
  },
  {
   "cell_type": "code",
   "execution_count": null,
   "metadata": {},
   "outputs": [],
   "source": [
    "s = \"I am a string!\"\n",
    "\n",
    "print(s.index(\"I\"))\n",
    "print(s.index('Q'))"
   ]
  },
  {
   "cell_type": "markdown",
   "metadata": {},
   "source": [
    "### `.find(target)`\n",
    "- Gets the index of the first instance given target\n",
    "\n",
    "- Returns `-1` if the target is not present in the string"
   ]
  },
  {
   "cell_type": "code",
   "execution_count": null,
   "metadata": {},
   "outputs": [],
   "source": [
    "s = \"I am a string!\"\n",
    "\n",
    "print(s.find(\"I\"))\n",
    "print(s.find('Q'))"
   ]
  },
  {
   "cell_type": "markdown",
   "metadata": {},
   "source": [
    "### `.split(separator)`\n",
    "- creates a new list with individual characters of the string as an element, defaults to spliting on space character (\" \")\n",
    "\n",
    "- _optional:_ separator is the character that split will split on"
   ]
  },
  {
   "cell_type": "code",
   "execution_count": null,
   "metadata": {},
   "outputs": [],
   "source": [
    "s = \"I am a string!\"\n",
    "\n",
    "print(s.split())\n",
    "print(s.split(' '))"
   ]
  },
  {
   "cell_type": "markdown",
   "metadata": {},
   "source": [
    "### `.strip(target)`\n",
    "- returns a copy of the string with target char removed from leading and trailing spaces. Removes white space by default.\n",
    "\n",
    "- _optional_: target - the char to remove from the string"
   ]
  },
  {
   "cell_type": "code",
   "execution_count": null,
   "metadata": {},
   "outputs": [],
   "source": [
    "s = \"    I am a string!\"\n",
    "\n",
    "print(s.strip())\n",
    "print(s.strip(\"!\"))"
   ]
  },
  {
   "cell_type": "markdown",
   "metadata": {},
   "source": [
    "### `.join(target)`\n",
    "- joins the target with the given delimiter `.join()` is called on\n",
    "\n",
    "- target must be an iterable, Reaises a `TypeError` if given an invalid argument"
   ]
  },
  {
   "cell_type": "code",
   "execution_count": null,
   "metadata": {},
   "outputs": [],
   "source": [
    "l = ['I', 'am', 'a', 'string!']\n",
    "print(\" \".join(l))\n",
    "print(\" \".join(53))"
   ]
  },
  {
   "cell_type": "markdown",
   "metadata": {},
   "source": [
    "### `.replace(target, replacement)`\n",
    "- replaces the given target char with the replacement char\n",
    "\n",
    "- target and replacement must be type `str`, TypeError is reaised otherwise\n"
   ]
  },
  {
   "cell_type": "code",
   "execution_count": null,
   "metadata": {},
   "outputs": [],
   "source": [
    "s = \"I am a string!\"\n",
    "\n",
    "print(s.replace('a', 'e'))\n",
    "print(s.replace(\" \", \"\"))\n",
    "print(s.replace(1, 1))"
   ]
  },
  {
   "cell_type": "code",
   "execution_count": null,
   "metadata": {},
   "outputs": [],
   "source": [
    "s = \"I am a string!\"\n",
    "\n",
    "print(s.upper())\n",
    "print(\"ß\".upper())"
   ]
  },
  {
   "cell_type": "markdown",
   "metadata": {},
   "source": [
    "### `.lower()`\n",
    "- Returns all characters lowercased\n",
    "\n",
    "- chars that do not have case are ignored\n",
    "\n",
    "- **NOTE**: internationalization can get wonky here. ex: \"ß\" in German"
   ]
  },
  {
   "cell_type": "code",
   "execution_count": null,
   "metadata": {},
   "outputs": [],
   "source": [
    "s = \"I am a string!\"\n",
    "\n",
    "print(s.lower())\n",
    "print(\"ß\".upper().lower())"
   ]
  },
  {
   "cell_type": "markdown",
   "metadata": {},
   "source": [
    "### `.capitalize()`\n",
    "- Returns the string with the first character in uppercase and the rest in lowercase\n",
    "\n",
    "- chars that do not have case are ignored\n",
    "\n",
    "- **NOTE**: internationalization can get wonky here. ex: \"ß\" in German"
   ]
  },
  {
   "cell_type": "code",
   "execution_count": null,
   "metadata": {},
   "outputs": [],
   "source": [
    "s = \"I am a String!\"\n",
    "\n",
    "print(s.capitalize())\n",
    "print(\"ß\".capitalize())"
   ]
  },
  {
   "cell_type": "markdown",
   "metadata": {},
   "source": [
    "## [list methods](https://launchschool.com/lessons/1b66cd61/assignments/6992af5a): "
   ]
  },
  {
   "cell_type": "markdown",
   "metadata": {},
   "source": [
    "### `.append(target_object)`\n",
    "- Mutative\n",
    "\n",
    "- No return value\n",
    "\n",
    "- Adds the target object to the end of the list"
   ]
  },
  {
   "cell_type": "code",
   "execution_count": null,
   "metadata": {},
   "outputs": [],
   "source": [
    "s_list = [\"list\", \"of\", \"strings\"]\n",
    "n_list = [1, 2, 3, 4]\n",
    "\n",
    "s = s_list.append(\"here\")\n",
    "n = n_list.append(5)\n",
    "\n",
    "print(s_list)\n",
    "print(s)\n",
    "print(n_list)\n",
    "print(n)\n"
   ]
  },
  {
   "cell_type": "markdown",
   "metadata": {},
   "source": [
    "### `.extend(target_list)`\n",
    "- Mutative\n",
    "\n",
    "- No return value\n",
    "\n",
    "- Extends a list with the elements of target_list"
   ]
  },
  {
   "cell_type": "code",
   "execution_count": null,
   "metadata": {},
   "outputs": [],
   "source": [
    "s_list = [\"list\", \"of\", \"strings\"]\n",
    "n_list = [1, 2, 3, 4]\n",
    "\n",
    "s = s_list.extend(n_list)\n",
    "\n",
    "print(s_list)\n",
    "print(s)"
   ]
  },
  {
   "cell_type": "markdown",
   "metadata": {},
   "source": [
    "### `.insert(index, target_object)`\n",
    "- Mutative\n",
    "\n",
    "- No return value\n",
    "\n",
    "- Inserts the target_object at the given index\n"
   ]
  },
  {
   "cell_type": "code",
   "execution_count": null,
   "metadata": {},
   "outputs": [],
   "source": [
    "s_list = [\"list\", \"of\", \"elements\"]\n",
    "n_list = [1, 2, 3, 4]\n",
    "\n",
    "s = s_list.insert(2, n_list[3])\n",
    "\n",
    "print(s_list)\n",
    "print(s)"
   ]
  },
  {
   "cell_type": "markdown",
   "metadata": {},
   "source": [
    "### `.remove(target_element)`\n",
    "- Mutative\n",
    "\n",
    "- No return value\n",
    "\n",
    "- Removes the target element if it is present in the list, raises `ValueError` if the target element is not present"
   ]
  },
  {
   "cell_type": "code",
   "execution_count": 3,
   "metadata": {},
   "outputs": [
    {
     "name": "stdout",
     "output_type": "stream",
     "text": [
      "['of', 'elements']\n",
      "None\n"
     ]
    },
    {
     "ename": "ValueError",
     "evalue": "list.remove(x): x not in list",
     "output_type": "error",
     "traceback": [
      "\u001b[0;31m---------------------------------------------------------------------------\u001b[0m",
      "\u001b[0;31mValueError\u001b[0m                                Traceback (most recent call last)",
      "Cell \u001b[0;32mIn[3], line 8\u001b[0m\n\u001b[1;32m      5\u001b[0m \u001b[38;5;28mprint\u001b[39m(s_list)\n\u001b[1;32m      6\u001b[0m \u001b[38;5;28mprint\u001b[39m(s)\n\u001b[0;32m----> 8\u001b[0m s \u001b[38;5;241m=\u001b[39m \u001b[43ms_list\u001b[49m\u001b[38;5;241;43m.\u001b[39;49m\u001b[43mremove\u001b[49m\u001b[43m(\u001b[49m\u001b[38;5;124;43m\"\u001b[39;49m\u001b[38;5;124;43mlist\u001b[39;49m\u001b[38;5;124;43m\"\u001b[39;49m\u001b[43m)\u001b[49m\n\u001b[1;32m      9\u001b[0m \u001b[38;5;28mprint\u001b[39m(s_list)\n",
      "\u001b[0;31mValueError\u001b[0m: list.remove(x): x not in list"
     ]
    }
   ],
   "source": [
    "s_list = [\"list\", \"of\", \"elements\"]\n",
    "n_list = [1, 2, 3, 4]\n",
    "\n",
    "s = s_list.remove(\"list\")\n",
    "print(s_list)\n",
    "print(s)\n",
    "\n",
    "s = s_list.remove(\"list\")\n",
    "print(s_list)\n",
    "\n"
   ]
  },
  {
   "cell_type": "markdown",
   "metadata": {},
   "source": [
    "### `.pop(target_idx)`\n",
    "- Mutative\n",
    "\n",
    "- Removes the associated element at the target_index and returns it. If no argument is given, pop removes and returns the last element in the list"
   ]
  },
  {
   "cell_type": "code",
   "execution_count": 4,
   "metadata": {},
   "outputs": [
    {
     "name": "stdout",
     "output_type": "stream",
     "text": [
      "['list', 'elements']\n",
      "of\n",
      "['list']\n",
      "elements\n"
     ]
    }
   ],
   "source": [
    "s_list = [\"list\", \"of\", \"elements\"]\n",
    "n_list = [1, 2, 3, 4]\n",
    "\n",
    "s = s_list.pop(1)\n",
    "print(s_list)\n",
    "print(s)\n",
    "\n",
    "s = s_list.pop()\n",
    "print(s_list)\n",
    "print (s)"
   ]
  },
  {
   "cell_type": "markdown",
   "metadata": {},
   "source": [
    "### `.clear()`\n",
    "- Mutative\n",
    "\n",
    "- No return value\n",
    "\n",
    "- Removes all elements in the given list"
   ]
  },
  {
   "cell_type": "code",
   "execution_count": 5,
   "metadata": {},
   "outputs": [
    {
     "name": "stdout",
     "output_type": "stream",
     "text": [
      "[]\n",
      "None\n"
     ]
    }
   ],
   "source": [
    "s_list = [\"list\", \"of\", \"elements\"]\n",
    "\n",
    "s = s_list.clear()\n",
    "print(s_list)\n",
    "print(s)"
   ]
  },
  {
   "cell_type": "markdown",
   "metadata": {},
   "source": [
    "### `.index(target_element)`\n",
    "- Non-mutative\n",
    "\n",
    "- Returns the index of the first instance of the target_element\n",
    "\n",
    "- Returns `ValueError` if the target_element is not present in the list"
   ]
  },
  {
   "cell_type": "code",
   "execution_count": 10,
   "metadata": {},
   "outputs": [
    {
     "name": "stdout",
     "output_type": "stream",
     "text": [
      "['list', 'of', 'elements']\n",
      "2\n"
     ]
    },
    {
     "ename": "ValueError",
     "evalue": "'pizza' is not in list",
     "output_type": "error",
     "traceback": [
      "\u001b[0;31m---------------------------------------------------------------------------\u001b[0m",
      "\u001b[0;31mValueError\u001b[0m                                Traceback (most recent call last)",
      "Cell \u001b[0;32mIn[10], line 7\u001b[0m\n\u001b[1;32m      4\u001b[0m \u001b[38;5;28mprint\u001b[39m(s_list)\n\u001b[1;32m      5\u001b[0m \u001b[38;5;28mprint\u001b[39m(s)\n\u001b[0;32m----> 7\u001b[0m s \u001b[38;5;241m=\u001b[39m \u001b[43ms_list\u001b[49m\u001b[38;5;241;43m.\u001b[39;49m\u001b[43mindex\u001b[49m\u001b[43m(\u001b[49m\u001b[38;5;124;43m\"\u001b[39;49m\u001b[38;5;124;43mpizza\u001b[39;49m\u001b[38;5;124;43m\"\u001b[39;49m\u001b[43m)\u001b[49m\n",
      "\u001b[0;31mValueError\u001b[0m: 'pizza' is not in list"
     ]
    }
   ],
   "source": [
    "s_list = [\"list\", \"of\", \"elements\"]\n",
    "\n",
    "s = s_list.index(\"elements\")\n",
    "print(s_list)\n",
    "print(s)\n",
    "\n",
    "s = s_list.index(\"pizza\")"
   ]
  },
  {
   "cell_type": "markdown",
   "metadata": {},
   "source": [
    "### `.count(target_element)`\n",
    "- Non-mutative\n",
    "\n",
    "- Returns the count of the target_element, returns 0 if the element is not present in the list."
   ]
  },
  {
   "cell_type": "code",
   "execution_count": null,
   "metadata": {},
   "outputs": [
    {
     "name": "stdout",
     "output_type": "stream",
     "text": [
      "['list', 'of', 'elements']\n",
      "1\n",
      "['list', 'of', 'elements']\n",
      "0\n"
     ]
    }
   ],
   "source": [
    "s_list = [\"list\", \"of\", \"elements\"]\n",
    "\n",
    "s = s_list.count(\"elements\")\n",
    "print(s_list)\n",
    "print(s)"
   ]
  },
  {
   "cell_type": "markdown",
   "metadata": {},
   "source": [
    "### `.sort(reverse=False)`\n",
    "- Mutative\n",
    "\n",
    "- No return value\n",
    "\n",
    "- Sorts the list in ascending order, strings are sorted lexicographically\n",
    "\n",
    "- _optional:_ reverse change the direction of the sort to reverse"
   ]
  },
  {
   "cell_type": "code",
   "execution_count": 14,
   "metadata": {},
   "outputs": [
    {
     "name": "stdout",
     "output_type": "stream",
     "text": [
      "['elements', 'list', 'of']\n",
      "None\n",
      "[4, 3, 2, 1]\n",
      "None\n"
     ]
    }
   ],
   "source": [
    "s_list = [\"list\", \"of\", \"elements\"]\n",
    "n_list = [1, 2, 3, 4]\n",
    "\n",
    "s = s_list.sort()\n",
    "print(s_list)\n",
    "print(s)\n",
    "\n",
    "n = n_list.sort(reverse=True)\n",
    "print(n_list)\n",
    "print(n)"
   ]
  },
  {
   "cell_type": "markdown",
   "metadata": {},
   "source": [
    "### `.reverse()`\n",
    "- Mutative\n",
    "\n",
    "- No return value\n",
    "\n",
    "- Reverses the given list"
   ]
  },
  {
   "cell_type": "code",
   "execution_count": 15,
   "metadata": {},
   "outputs": [
    {
     "name": "stdout",
     "output_type": "stream",
     "text": [
      "['elements', 'of', 'list']\n",
      "None\n",
      "[4, 3, 2, 1]\n",
      "None\n"
     ]
    }
   ],
   "source": [
    "s_list = [\"list\", \"of\", \"elements\"]\n",
    "n_list = [1, 2, 3, 4]\n",
    "\n",
    "s = s_list.reverse()\n",
    "print(s_list)\n",
    "print(s)\n",
    "\n",
    "n = n_list.reverse()\n",
    "print(n_list)\n",
    "print(n)"
   ]
  },
  {
   "cell_type": "markdown",
   "metadata": {},
   "source": [
    "### `.copy()`\n",
    "\n",
    "- Non-mutative\n",
    "\n",
    "- Returns a shallow copy of the list copy is called on\n"
   ]
  },
  {
   "cell_type": "code",
   "execution_count": 19,
   "metadata": {},
   "outputs": [
    {
     "name": "stdout",
     "output_type": "stream",
     "text": [
      "['list', 'of', 'elements']\n",
      "['list', 'of', 'elements']\n",
      "False\n",
      "[1, 2, [3], 4]\n",
      "[1, 2, [3], 4]\n",
      "True\n"
     ]
    }
   ],
   "source": [
    "s_list = [\"list\", \"of\", \"elements\"]\n",
    "n_list = [1, 2, [3], 4]\n",
    "\n",
    "s = s_list.copy()\n",
    "print(s_list)\n",
    "print(s)\n",
    "print(s_list is s)\n",
    "\n",
    "n = n_list.copy()\n",
    "print(n_list)\n",
    "print(n)\n",
    "print(n_list[2] is n[2])"
   ]
  },
  {
   "cell_type": "markdown",
   "metadata": {},
   "source": [
    "## [dict methods](https://launchschool.com/lessons/1b66cd61/assignments/cf779435): "
   ]
  },
  {
   "cell_type": "markdown",
   "metadata": {},
   "source": [
    "## [set methods](https://launchschool.com/lessons/1b66cd61/assignments/cf779435): "
   ]
  },
  {
   "cell_type": "markdown",
   "metadata": {},
   "source": [
    "## [frozenset methods](https://launchschool.com/lessons/1b66cd61/assignments/cf779435):"
   ]
  },
  {
   "cell_type": "markdown",
   "metadata": {},
   "source": [
    "## [tuple methods](https://launchschool.com/lessons/1b66cd61/assignments/6992af5a):"
   ]
  },
  {
   "cell_type": "markdown",
   "metadata": {},
   "source": [
    "## [range and enumerate](https://launchschool.com/lessons/1b66cd61/assignments/ec6f2031):"
   ]
  },
  {
   "cell_type": "markdown",
   "metadata": {},
   "source": [
    "## built-in functions "
   ]
  },
  {
   "cell_type": "markdown",
   "metadata": {},
   "source": [
    "## [sorting](https://launchschool.com/lessons/76ecb255/assignments/6a0df143):"
   ]
  },
  {
   "cell_type": "markdown",
   "metadata": {},
   "source": [
    "## [comprehensions](https://launchschool.com/lessons/76ecb255/assignments/5780058f):"
   ]
  },
  {
   "cell_type": "markdown",
   "metadata": {},
   "source": [
    "## [nested data structures and nested iteration](https://launchschool.com/lessons/76ecb255/assignments/fe31086e):"
   ]
  }
 ],
 "metadata": {
  "kernelspec": {
   "display_name": "Python 3",
   "language": "python",
   "name": "python3"
  },
  "language_info": {
   "codemirror_mode": {
    "name": "ipython",
    "version": 3
   },
   "file_extension": ".py",
   "mimetype": "text/x-python",
   "name": "python",
   "nbconvert_exporter": "python",
   "pygments_lexer": "ipython3",
   "version": "3.13.1"
  }
 },
 "nbformat": 4,
 "nbformat_minor": 2
}

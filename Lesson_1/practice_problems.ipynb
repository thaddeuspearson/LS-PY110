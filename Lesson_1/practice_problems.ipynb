{
 "cells": [
  {
   "cell_type": "markdown",
   "metadata": {},
   "source": [
    "# Practice Problems\n",
    "Practice Problems for Lesson 1: Sequences and Collections"
   ]
  },
  {
   "cell_type": "markdown",
   "metadata": {},
   "source": [
    "---\n",
    "### Question 1"
   ]
  },
  {
   "cell_type": "markdown",
   "metadata": {},
   "source": [
    "Given the tuple:\n",
    "\n",
    "```python\n",
    "    fruits = (\"apple\", \"banana\", \"cherry\", \"date\", \"banana\")\n",
    "```\n",
    "How would you count the number of occurrences of \"banana\" in the tuple?"
   ]
  },
  {
   "cell_type": "markdown",
   "metadata": {},
   "source": [
    "<details>\n",
    "<summary><b>Answer:</b></summary>\n",
    "\n",
    "<br>\n",
    "\n",
    "```python\n",
    "    print(fruits.count(\"banana\"))\n",
    "```\n",
    "\n",
    "</details>"
   ]
  },
  {
   "cell_type": "markdown",
   "metadata": {},
   "source": [
    "---\n",
    "### Question 2"
   ]
  },
  {
   "cell_type": "markdown",
   "metadata": {},
   "source": [
    "Consider the set:\n",
    "\n",
    "```python\n",
    "    numbers = {1, 2, 3, 4, 5, 5, 4, 3}\n",
    "    print(len(numbers))\n",
    "```\n",
    "\n",
    "What is the set's length? Try to answer without running the code."
   ]
  },
  {
   "cell_type": "markdown",
   "metadata": {},
   "source": [
    "<details>\n",
    "<summary><b>Answer:</b></summary>\n",
    "\n",
    "<br>\n",
    "\n",
    "The set's len is 5. Sets deduplicate entries, and are unordered.\n",
    "\n",
    "</details>"
   ]
  },
  {
   "cell_type": "markdown",
   "metadata": {},
   "source": [
    "---\n",
    "### Question 3"
   ]
  },
  {
   "cell_type": "markdown",
   "metadata": {},
   "source": [
    "Given two sets:\n",
    "\n",
    "```python\n",
    "    a = {1, 2, 3, 4}\n",
    "    b = {3, 4, 5, 6}\n",
    "```\n",
    "How would you obtain a set that contains all the unique values from both sets?"
   ]
  },
  {
   "cell_type": "markdown",
   "metadata": {},
   "source": [
    "<details>\n",
    "<summary><b>Answer:</b></summary>\n",
    "\n",
    "<br>\n",
    "\n",
    "```python\n",
    "    print(a.union(b))\n",
    "```\n",
    "\n",
    "</details>"
   ]
  },
  {
   "cell_type": "markdown",
   "metadata": {},
   "source": [
    "---\n",
    "### Question 4"
   ]
  },
  {
   "cell_type": "markdown",
   "metadata": {},
   "source": [
    "Given the following code, what would the output be? Try to answer without running the code.\n",
    "\n",
    "```python\n",
    "    names = [\"Fred\", \"Barney\", \"Wilma\", \"Betty\", \"Pebbles\", \"Bambam\"]\n",
    "    name_positions = {}\n",
    "    for index, name in enumerate(names):\n",
    "        name_positions[name] = index\n",
    "    print(name_positions)\n",
    "```"
   ]
  },
  {
   "cell_type": "markdown",
   "metadata": {},
   "source": [
    "<details>\n",
    "<summary><b>Answer:</b></summary>\n",
    "\n",
    "<br>\n",
    "\n",
    "```python\n",
    "    {\"Fred\": 0, \"Barney\": 1, \"Wilma\": 2, \"Betty\": 3, \"Pebbles\": 4, \"Bambam\": 5}\n",
    "```\n",
    "\n",
    "</details>"
   ]
  },
  {
   "cell_type": "markdown",
   "metadata": {},
   "source": [
    "---\n",
    "### Question 5"
   ]
  },
  {
   "cell_type": "markdown",
   "metadata": {},
   "source": [
    "Calculate the total age given the following dictionary:\n",
    "\n",
    "```python\n",
    "    ages = {\n",
    "        \"Herman\": 32,\n",
    "        \"Lily\": 30,\n",
    "        \"Grandpa\": 5843,\n",
    "        \"Eddie\": 10,\n",
    "        \"Marilyn\": 22,\n",
    "        \"Spot\": 237,\n",
    "}\n",
    "```"
   ]
  },
  {
   "cell_type": "markdown",
   "metadata": {},
   "source": [
    "<details>\n",
    "<summary><b>Answer:</b></summary>\n",
    "\n",
    "<br>\n",
    "\n",
    "```python\n",
    "    sum(ages.values())\n",
    "```\n",
    "\n",
    "</details>"
   ]
  },
  {
   "cell_type": "markdown",
   "metadata": {},
   "source": [
    "---\n",
    "### Question 6"
   ]
  },
  {
   "cell_type": "markdown",
   "metadata": {},
   "source": [
    "Determine the minimum age from the ages dictionary.\n",
    "\n",
    "```python\n",
    "    ages = {\n",
    "        \"Herman\": 32,\n",
    "        \"Lily\": 30,\n",
    "        \"Grandpa\": 5843,\n",
    "        \"Eddie\": 10,\n",
    "        \"Marilyn\": 22,\n",
    "        \"Spot\": 237,\n",
    "    }\n",
    "```"
   ]
  },
  {
   "cell_type": "markdown",
   "metadata": {},
   "source": [
    "<details>\n",
    "<summary><b>Answer:</b></summary>\n",
    "\n",
    "<br>\n",
    "\n",
    "```python\n",
    "    min(ages.values())\n",
    "```\n",
    "\n",
    "</details>"
   ]
  },
  {
   "cell_type": "markdown",
   "metadata": {},
   "source": [
    "---\n",
    "### Question 7"
   ]
  },
  {
   "cell_type": "markdown",
   "metadata": {},
   "source": [
    "What would the following code output? Try to answer without running the code.\n",
    "\n",
    "```python\n",
    "    words = ['ant', 'bear', 'cat']\n",
    "    selected_words = []\n",
    "    for word in words:\n",
    "        if len(word) > 3:\n",
    "            selected_words.append(word)\n",
    "\n",
    "    print(selected_words)\n",
    "```"
   ]
  },
  {
   "cell_type": "markdown",
   "metadata": {},
   "source": [
    "<details>\n",
    "<summary><b>Answer:</b></summary>\n",
    "\n",
    "<br>\n",
    "\n",
    "```python\n",
    "    ['bear']\n",
    "```\n",
    "\n",
    "</details>"
   ]
  },
  {
   "cell_type": "markdown",
   "metadata": {},
   "source": [
    "---\n",
    "### Question 8"
   ]
  },
  {
   "cell_type": "markdown",
   "metadata": {},
   "source": [
    "Given the following string, create a dictionary that represents the frequency with which each letter occurs. The frequency count should be case-sensitive:\n",
    "\n",
    "```python\n",
    "    statement = \"The Flintstones Rock\"\n",
    "```\n",
    "The output should resemble the following:\n",
    "\n",
    "```python \n",
    "    {'T': 1, 'h': 1, 'e': 2, 'F': 1, 'l': 1, 'i': 1, 'n': 2, 't': 2, 's': 2, 'o': 2, 'R': 1, 'c': 1, 'k': 1}\n",
    "```"
   ]
  },
  {
   "cell_type": "markdown",
   "metadata": {},
   "source": [
    "<details>\n",
    "<summary><b>Answer:</b></summary>\n",
    "\n",
    "<br>\n",
    "\n",
    "```python\n",
    "    char_count = {}\n",
    "\n",
    "    for char in statement:\n",
    "        if char.isalpha()\n",
    "            char_count[letter] = char_count.get(letter, 0) + 1\n",
    "\n",
    "    print(char_count)\n",
    "```\n",
    "\n",
    "</details>"
   ]
  },
  {
   "cell_type": "markdown",
   "metadata": {},
   "source": [
    "---\n",
    "### Question 9"
   ]
  },
  {
   "cell_type": "markdown",
   "metadata": {},
   "source": [
    "What is the return value of the list comprehension below? Try to answer without running the code.\n",
    "\n",
    "```python\n",
    "    [num for num in [1, 2, 3] if num > 1]\n",
    "```"
   ]
  },
  {
   "cell_type": "markdown",
   "metadata": {},
   "source": [
    "<details>\n",
    "<summary><b>Answer:</b></summary>\n",
    "\n",
    "<br>\n",
    "\n",
    "```python\n",
    "    [2, 3]\n",
    "```\n",
    "\n",
    "</details>"
   ]
  },
  {
   "cell_type": "markdown",
   "metadata": {},
   "source": [
    "---\n",
    "### Question 10"
   ]
  },
  {
   "cell_type": "markdown",
   "metadata": {},
   "source": [
    "What does the following code print and why?\n",
    "\n",
    "```python\n",
    "    dictionary = {'a': 'ant', 'b': 'bear'}\n",
    "    print(dictionary.popitem())\n",
    "```\n"
   ]
  },
  {
   "cell_type": "markdown",
   "metadata": {},
   "source": [
    "<details>\n",
    "<summary><b>Answer:</b></summary>\n",
    "\n",
    "<br>\n",
    "\n",
    "```python\n",
    "    ('b', 'bear')\n",
    "```\n",
    "`.popitem()` removes the last item tuple from the dictionary it is called on, and returns it. Dictionaries guarentee insertion order since python 3.7, in this case, `('b', 'bear')` is the last item tuple in dictionary.\n",
    "\n",
    "</details>"
   ]
  },
  {
   "cell_type": "markdown",
   "metadata": {},
   "source": [
    "---\n",
    "### Question 11"
   ]
  },
  {
   "cell_type": "markdown",
   "metadata": {},
   "source": [
    "What does the following code return? Try to answer without running the code.\n",
    "\n",
    "```python\n",
    "    lst = [1, 2, 3, 4, 5]\n",
    "    lst[:2]\n",
    "```"
   ]
  },
  {
   "cell_type": "markdown",
   "metadata": {},
   "source": [
    "<details>\n",
    "<summary><b>Answer:</b></summary>\n",
    "\n",
    "<br>\n",
    "\n",
    "```python\n",
    "    [1, 2]\n",
    "```\n",
    "When using bracket notation to slice a list, leaving the first index blank starts from the beginning of the list, and the second index is there the slice will end (exclusively).\n",
    "\n",
    "\n",
    "</details>"
   ]
  },
  {
   "cell_type": "markdown",
   "metadata": {},
   "source": [
    "---\n",
    "### Question 12"
   ]
  },
  {
   "cell_type": "markdown",
   "metadata": {},
   "source": [
    "What would be the output of the below code? Try to answer without running the code.\n",
    "\n",
    "```python\n",
    "    frozen = frozenset([1, 2, 3, 4, 5])\n",
    "    frozen.add(6)\n",
    "    print(frozen)\n",
    "```"
   ]
  },
  {
   "cell_type": "markdown",
   "metadata": {},
   "source": [
    "<details>\n",
    "<summary><b>Answer:</b></summary>\n",
    "\n",
    "<br>\n",
    "\n",
    "```python\n",
    "    \"AttributeError: 'frozenset' object has no attribute 'add'\"\n",
    "```\n",
    "\n",
    "\n",
    "</details>"
   ]
  }
 ],
 "metadata": {
  "language_info": {
   "name": "python"
  }
 },
 "nbformat": 4,
 "nbformat_minor": 2
}

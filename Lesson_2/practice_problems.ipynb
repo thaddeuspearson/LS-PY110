{
 "cells": [
  {
   "cell_type": "markdown",
   "metadata": {},
   "source": [
    "# Practice Problems\n",
    "Practice Problems for Lesson 1: Sequences and Collections"
   ]
  },
  {
   "cell_type": "markdown",
   "metadata": {},
   "source": [
    "## Sorting"
   ]
  },
  {
   "cell_type": "markdown",
   "metadata": {},
   "source": [
    "---\n",
    "### Question 1"
   ]
  },
  {
   "cell_type": "markdown",
   "metadata": {},
   "source": [
    "Sort the following list of numbers first in ascending numeric order, then in descending numeric order. Do not mutate the list.\n",
    "\n",
    "```python\n",
    "    lst = [10, 9, -6, 11, 7, -16, 50, 8]\n",
    "```\n",
    "Expected result:\n",
    "\n",
    "```python\n",
    "    [-16, -6, 7, 8, 9, 10, 11, 50]          # Ascending sort\n",
    "    [50, 11, 10, 9, 8, 7, -6, -16]          # Descending sort\n",
    "```"
   ]
  },
  {
   "cell_type": "markdown",
   "metadata": {},
   "source": [
    "<details>\n",
    "<summary><b>Answer:</b></summary>\n",
    "\n",
    "<br>\n",
    "\n",
    "```python\n",
    "    print(sorted(lst))\n",
    "    print(sorted(lst, reverse=True))\n",
    "```\n",
    "\n",
    "</details>"
   ]
  },
  {
   "cell_type": "markdown",
   "metadata": {},
   "source": [
    "---\n",
    "### Question 2"
   ]
  },
  {
   "cell_type": "markdown",
   "metadata": {},
   "source": [
    "Repeat the previous exercise but, this time, perform the sort by mutating the original list.\n",
    "\n",
    "```python\n",
    "lst = [10, 9, -6, 11, 7, -16, 50, 8]\n",
    "```\n",
    "\n",
    "Expected result:\n",
    "\n",
    "```python\n",
    "[-16, -6, 7, 8, 9, 10, 11, 50]          # Ascending sort\n",
    "[50, 11, 10, 9, 8, 7, -6, -16]          # Descending sort\n",
    "```"
   ]
  },
  {
   "cell_type": "markdown",
   "metadata": {},
   "source": [
    "<details>\n",
    "<summary><b>Answer:</b></summary>\n",
    "\n",
    "<br>\n",
    "\n",
    "```python\n",
    "    lst.sort()\n",
    "    print(lst1)\n",
    "    \n",
    "    lst.sort(reverse=True)\n",
    "    print(lst2)\n",
    "```\n",
    "\n",
    "</details>"
   ]
  },
  {
   "cell_type": "markdown",
   "metadata": {},
   "source": [
    "---\n",
    "### Question 3"
   ]
  },
  {
   "cell_type": "markdown",
   "metadata": {},
   "source": [
    "Repeat problem 2 but, this time, sort the list as string values. Both the list passed to the sorting function and the returned list should contain numbers, not strings.\n",
    "\n",
    "```python\n",
    "    lst = [10, 9, -6, 11, 7, -16, 50, 8]\n",
    "```\n",
    "Expected result\n",
    "\n",
    "```python\n",
    "    [-16, -6, 10, 11, 50, 7, 8, 9]          # Ascending sort\n",
    "    [9, 8, 7, 50, 11, 10, -6, -16]          # Descending sort\n",
    "```"
   ]
  },
  {
   "cell_type": "markdown",
   "metadata": {},
   "source": [
    "<details>\n",
    "<summary><b>Answer:</b></summary>\n",
    "\n",
    "<br>\n",
    "\n",
    "```python\n",
    "    lst.sort(key=str)\n",
    "    print(lst)\n",
    "    \n",
    "    lst.sort(key=str)\n",
    "    print(lst)\n",
    "```\n",
    "\n",
    "</details>"
   ]
  },
  {
   "cell_type": "markdown",
   "metadata": {},
   "source": [
    "---\n",
    "### Question 4"
   ]
  },
  {
   "cell_type": "markdown",
   "metadata": {},
   "source": [
    "How would you sort the following list of dictionaries based on the year of publication of each book, from the earliest to the most recent?\n",
    "\n",
    "```python\n",
    "    books = [\n",
    "        {\n",
    "            'title': 'One Hundred Years of Solitude',\n",
    "            'author': 'Gabriel Garcia Marquez',\n",
    "            'published': '1967',\n",
    "        },\n",
    "        {\n",
    "            'title': 'The Book of Kells',\n",
    "            'author': 'Multiple Authors',\n",
    "            'published': '800',\n",
    "        },\n",
    "        {\n",
    "            'title': 'War and Peace',\n",
    "            'author': 'Leo Tolstoy',\n",
    "            'published': '1869',\n",
    "        },\n",
    "    ]\n",
    "```"
   ]
  },
  {
   "cell_type": "markdown",
   "metadata": {},
   "source": [
    "<details>\n",
    "<summary><b>Answer:</b></summary>\n",
    "\n",
    "<br>\n",
    "\n",
    "```python\n",
    "   print(sorted(books, key=lambda x: int(x[\"published\"])))\n",
    "```\n",
    "\n",
    "</details>"
   ]
  },
  {
   "cell_type": "markdown",
   "metadata": {},
   "source": [
    "## Nested Data Structures"
   ]
  },
  {
   "cell_type": "markdown",
   "metadata": {},
   "source": [
    "---\n",
    "### Question 1"
   ]
  },
  {
   "cell_type": "markdown",
   "metadata": {},
   "source": [
    "For each object shown below, demonstrate how you would access the letter g.\n",
    "\n",
    "```python\n",
    "    lst1 = ['a', 'b', ['c', ['d', 'e', 'f', 'g']]]\n",
    "\n",
    "    lst2 = [\n",
    "        {\n",
    "            'first': ['a', 'b', 'c'],\n",
    "            'second': ['d', 'e', 'f']\n",
    "        },\n",
    "        {\n",
    "            'third': ['g', 'h', 'i']\n",
    "        }\n",
    "    ]\n",
    "\n",
    "    lst3 = [['abc'], ['def'], {'third': ['ghi']}]\n",
    "\n",
    "    dict1 = {'a': ['d', 'e'], 'b': ['f', 'g'], 'c': ['h', 'i']}\n",
    "\n",
    "    dict2 = {'1st': {'d': 3}, '2nd': {'e': 2, 'f': 1}, '3rd': {'g': 0}}\n",
    "```"
   ]
  },
  {
   "cell_type": "markdown",
   "metadata": {},
   "source": [
    "<details>\n",
    "<summary><b>Answer:</b></summary>\n",
    "\n",
    "<br>\n",
    "\n",
    "```python\n",
    "    g_1 = lst1[2][1][3]\n",
    "    g_2 = lst2[1]['third'][0]\n",
    "    g_3 = lst3[2]['third'][0]\n",
    "    g_4 = dict1['b'][1]\n",
    "    g_5 = list(dict2['3rd'].keys())[0]\n",
    "```\n",
    "\n",
    "</details>"
   ]
  },
  {
   "cell_type": "markdown",
   "metadata": {},
   "source": [
    "---\n",
    "### Question 2"
   ]
  },
  {
   "cell_type": "markdown",
   "metadata": {},
   "source": [
    "For each of these collection objects, demonstrate how you would change the value 3 to 4.\n",
    "\n",
    "```python\n",
    "    lst1 = [1, [2, 3], 4]\n",
    "\n",
    "    lst2 = [{'a': 1}, {'b': 2, 'c': [7, 6, 5], 'd': 4}, 3]\n",
    "\n",
    "    dict1 = {'first': [1, 2, [3]]}\n",
    "\n",
    "    dict2 = {'a': {'a': ['1', 'two', 3], 'b': 4}, 'b': 5}\n",
    "```"
   ]
  },
  {
   "cell_type": "markdown",
   "metadata": {},
   "source": [
    "<details>\n",
    "<summary><b>Answer:</b></summary>\n",
    "\n",
    "<br>\n",
    "\n",
    "```python\n",
    "   lst1[1][1] = 4\n",
    "   ls2[2] = 4\n",
    "   dict1['first'][2][0] = 4\n",
    "   dict2['a']['a'][2] = 4\n",
    "```\n",
    "\n",
    "</details>"
   ]
  },
  {
   "cell_type": "markdown",
   "metadata": {},
   "source": [
    "---\n",
    "### Question 3"
   ]
  },
  {
   "cell_type": "markdown",
   "metadata": {},
   "source": [
    "Given the following code, what will the final values of a and b be? Try to answer without running the code.\n",
    "\n",
    "```python\n",
    "    a = 2\n",
    "    b = [5, 8]\n",
    "    lst = [a, b]\n",
    "\n",
    "    lst[0] += 2\n",
    "    lst[1][0] -= a\n",
    "```"
   ]
  },
  {
   "cell_type": "markdown",
   "metadata": {},
   "source": [
    "<details>\n",
    "<summary><b>Answer:</b></summary>\n",
    "\n",
    "<br>\n",
    "\n",
    "```python\n",
    "   print(a)  # 4\n",
    "   print(b)  # [3, 8]\n",
    "```\n",
    "\n",
    "a is never altered, since the augmented addition happened only to lst. Under the hood, Python uses interning on small integers, so initially, a and lst[0] both have the same underlying int object in memory. However, when lst[0] is incremented by 2, only the 2 in the list at index 0 is modified.\n",
    "\n",
    "</details>"
   ]
  },
  {
   "cell_type": "markdown",
   "metadata": {},
   "source": [
    "---\n",
    "### Question 4"
   ]
  },
  {
   "cell_type": "markdown",
   "metadata": {},
   "source": [
    "One of the most frequently used real-world string operations is that of \"string substitution,\" where we take a hard-coded string and modify it with various parameters from our program.\n",
    "\n",
    "Given the object shown below, print the name, age, and gender of each family member:\n",
    "\n",
    "```python\n",
    "    munsters = {\n",
    "        'Herman':  {'age': 32,  'gender': 'male'},\n",
    "        'Lily':    {'age': 30,  'gender': 'female'},\n",
    "        'Grandpa': {'age': 402, 'gender': 'male'},\n",
    "        'Eddie':   {'age': 10,  'gender': 'male'},\n",
    "        'Marilyn': {'age': 23,  'gender': 'female'},\n",
    "    }\n",
    "```\n",
    "\n",
    "Each output line should follow this pattern:\n",
    "```\n",
    "(name) is a (age)-year-old (male or female).\n",
    "```"
   ]
  },
  {
   "cell_type": "markdown",
   "metadata": {},
   "source": [
    "<details>\n",
    "<summary><b>Answer:</b></summary>\n",
    "\n",
    "<br>\n",
    "\n",
    "```python\n",
    "for munster, data in munsters.items():\n",
    "   print(f\"{munster} is a {data[age]}-year-old {data[gender]}.\"\n",
    "```\n",
    "\n",
    "</details>"
   ]
  },
  {
   "cell_type": "markdown",
   "metadata": {},
   "source": [
    "## Comprehensions"
   ]
  },
  {
   "cell_type": "markdown",
   "metadata": {},
   "source": [
    "---\n",
    "### Question 1"
   ]
  },
  {
   "cell_type": "markdown",
   "metadata": {},
   "source": [
    "Consider the following nested dictionary:\n",
    "\n",
    "```python\n",
    "    munsters = {\n",
    "        'Herman':  {'age': 32,  'gender': 'male'},\n",
    "        'Lily':    {'age': 30,  'gender': 'female'},\n",
    "        'Grandpa': {'age': 402, 'gender': 'male'},\n",
    "        'Eddie':   {'age': 10,  'gender': 'male'},\n",
    "        'Marilyn': {'age': 23,  'gender': 'female'},\n",
    "    }\n",
    "```\n",
    "\n",
    "Compute and display the total age of the family's male members. Try working out the answer two ways: first with an ordinary loop, then with a comprehension.\n",
    "\n",
    "\n",
    "The result should be 444."
   ]
  },
  {
   "cell_type": "markdown",
   "metadata": {},
   "source": [
    "<details>\n",
    "<summary><b>Answer:</b></summary>\n",
    "\n",
    "<br>\n",
    "\n",
    "```python\n",
    "   \n",
    "```\n",
    "\n",
    "</details>"
   ]
  },
  {
   "cell_type": "markdown",
   "metadata": {},
   "source": [
    "---\n",
    "### Question 2"
   ]
  },
  {
   "cell_type": "markdown",
   "metadata": {},
   "source": [
    "Given the following data structure, return a new list with the same structure, but with the values in each sublist ordered in ascending order. Use a comprehension if you can. (Try using a for loop first.)\n",
    "\n",
    "```python\n",
    "    lst = [['b', 'c', 'a'], [2, 11, -3], ['blue', 'black', 'green']]\n",
    "```\n",
    "Expected result\n",
    "\n",
    "```python\n",
    "    [['a', 'b', 'c'], [-3, 2, 11], ['black', 'blue', 'green']]\n",
    "```\n",
    "The string values should be sorted as strings, while the numeric values should be sorted as numbers."
   ]
  },
  {
   "cell_type": "markdown",
   "metadata": {},
   "source": [
    "<details>\n",
    "<summary><b>Answer:</b></summary>\n",
    "\n",
    "<br>\n",
    "\n",
    "\n",
    "</details>"
   ]
  },
  {
   "cell_type": "markdown",
   "metadata": {},
   "source": [
    "---\n",
    "### Question 3"
   ]
  },
  {
   "cell_type": "markdown",
   "metadata": {},
   "source": [
    "Given the following data structure, return a new list with the same structure, but with the values in each sublist ordered in ascending order as strings (that is, the numbers should be treated as strings). Use a comprehension if you can. (Try using a for loop first.)\n",
    "\n",
    "```python\n",
    "    lst = [['b', 'c', 'a'], [2, 11, -3], ['blue', 'black', 'green']]\n",
    "```\n",
    "Expected result\n",
    "```python\n",
    "    [['a', 'b', 'c'], [-3, 11, 2], ['black', 'blue', 'green']]\n",
    "```"
   ]
  },
  {
   "cell_type": "markdown",
   "metadata": {},
   "source": [
    "<details>\n",
    "<summary><b>Answer:</b></summary>\n",
    "\n",
    "<br>\n",
    "\n",
    "```python\n",
    "\n",
    "```\n",
    "\n",
    "</details>"
   ]
  },
  {
   "cell_type": "markdown",
   "metadata": {},
   "source": [
    "---\n",
    "### Question 4"
   ]
  },
  {
   "cell_type": "markdown",
   "metadata": {},
   "source": [
    "Given the following data structure, write some code that defines a dictionary where the key is the first item in each sublist, and the value is the second.\n",
    "\n",
    "```python\n",
    "    lst = [\n",
    "        ['a', 1],\n",
    "        ['b', 'two'],\n",
    "        ['sea', {'c': 3}],\n",
    "        ['D', ['a', 'b', 'c']]\n",
    "    ]\n",
    "```\n",
    "\n",
    "Expected result\n",
    "```python\n",
    "    # Pretty printed for clarity\n",
    "    {\n",
    "        'a': 1,\n",
    "        'b': 'two',\n",
    "        'sea': {'c': 3},\n",
    "        'D': ['a', 'b', 'c']\n",
    "    }\n",
    "```\n"
   ]
  },
  {
   "cell_type": "markdown",
   "metadata": {},
   "source": [
    "<details>\n",
    "<summary><b>Answer:</b></summary>\n",
    "\n",
    "<br>\n",
    "\n",
    "```python\n",
    "\n",
    "```\n",
    "\n",
    "</details>"
   ]
  },
  {
   "cell_type": "markdown",
   "metadata": {},
   "source": [
    "---\n",
    "### Question 5"
   ]
  },
  {
   "cell_type": "markdown",
   "metadata": {},
   "source": [
    "Given the following data structure, sort the list so that the sub-lists are ordered based on the sum of the odd numbers that they contain. You shouldn't mutate the original list.\n",
    "\n",
    "```python\n",
    "    lst = [[1, 6, 7], [1, 5, 3], [1, 8, 3]]\n",
    "```\n",
    "Note that the first sublist has the odd numbers 1 and 7; the second sublist has odd numbers 1, 5, and 3; and the third sublist has 1 and 3. (1 + 3) < (1 + 7) < (1 + 5 + 3)\n",
    "\n",
    "Expected result\n",
    "\n",
    "```python\n",
    "    [[1, 8, 3], [1, 6, 7], [1, 5, 3]]\n",
    "```\n",
    "Try to use a comprehension in your solution."
   ]
  },
  {
   "cell_type": "markdown",
   "metadata": {},
   "source": [
    "<details>\n",
    "<summary><b>Answer:</b></summary>\n",
    "\n",
    "<br>\n",
    "\n",
    "```python\n",
    "\n",
    "```\n",
    "\n",
    "</details>"
   ]
  },
  {
   "cell_type": "markdown",
   "metadata": {},
   "source": [
    "---\n",
    "### Question 6"
   ]
  },
  {
   "cell_type": "markdown",
   "metadata": {},
   "source": [
    "Given the following data structure, return a new list identical in structure to the original but, with each number incremented by 1. Do not modify the original data structure. Use a comprehension.\n",
    "\n",
    "```python\n",
    "    lst = [{'a': 1}, {'b': 2, 'c': 3}, {'d': 4, 'e': 5, 'f': 6}]\n",
    "```\n",
    "Expected result\n",
    "\n",
    "```python\n",
    "    [{'a': 2}, {'b': 3, 'c': 4}, {'d': 5, 'e': 6, 'f': 7}]\n",
    "```"
   ]
  },
  {
   "cell_type": "markdown",
   "metadata": {},
   "source": [
    "<details>\n",
    "<summary><b>Answer:</b></summary>\n",
    "\n",
    "<br>\n",
    "\n",
    "```python\n",
    "\n",
    "```\n",
    "\n",
    "</details>"
   ]
  },
  {
   "cell_type": "markdown",
   "metadata": {},
   "source": [
    "---\n",
    "### Question 7"
   ]
  },
  {
   "cell_type": "markdown",
   "metadata": {},
   "source": [
    "Given the following data structure return a new list identical in structure to the original, but containing only the numbers that are multiples of 3.\n",
    "\n",
    "```python\n",
    "    lst = [[2], [3, 5, 7, 12], [9], [11, 15, 18]]\n",
    "```\n",
    "\n",
    "Expected result\n",
    "\n",
    "```python\n",
    "    [[], [3, 12], [9], [15, 18]]\n",
    "```\n",
    "Try to use a comprehension for this. However, we recommend first trying it without comprehensions."
   ]
  },
  {
   "cell_type": "markdown",
   "metadata": {},
   "source": [
    "<details>\n",
    "<summary><b>Answer:</b></summary>\n",
    "\n",
    "<br>\n",
    "\n",
    "```python\n",
    "\n",
    "```\n",
    "\n",
    "</details>"
   ]
  },
  {
   "cell_type": "markdown",
   "metadata": {},
   "source": [
    "---\n",
    "### Question 8"
   ]
  },
  {
   "cell_type": "markdown",
   "metadata": {},
   "source": [
    "Given the following data structure, write some code to return a list that contains the colors of the fruits and the sizes of the vegetables. The sizes should be uppercase, and the colors should be capitalized.\n",
    "\n",
    "```python\n",
    "    dict1 = {\n",
    "        'grape': {\n",
    "            'type': 'fruit',\n",
    "            'colors': ['red', 'green'],\n",
    "            'size': 'small',\n",
    "        },\n",
    "        'carrot': {\n",
    "            'type': 'vegetable',\n",
    "            'colors': ['orange'],\n",
    "            'size': 'medium',\n",
    "        },\n",
    "        'apricot': {\n",
    "            'type': 'fruit',\n",
    "            'colors': ['orange'],\n",
    "            'size': 'medium',\n",
    "        },\n",
    "        'marrow': {\n",
    "            'type': 'vegetable',\n",
    "            'colors': ['green'],\n",
    "            'size': 'large',\n",
    "        },\n",
    "    }\n",
    "```\n",
    "\n",
    "Expected result\n",
    "\n",
    "```python\n",
    "    [[\"Red\", \"Green\"], \"MEDIUM\", [\"Orange\"], \"LARGE\"]\n",
    "```"
   ]
  },
  {
   "cell_type": "markdown",
   "metadata": {},
   "source": [
    "<details>\n",
    "<summary><b>Answer:</b></summary>\n",
    "\n",
    "<br>\n",
    "\n",
    "```python\n",
    "\n",
    "```\n",
    "\n",
    "</details>"
   ]
  },
  {
   "cell_type": "markdown",
   "metadata": {},
   "source": [
    "---\n",
    "### Question 9"
   ]
  },
  {
   "cell_type": "markdown",
   "metadata": {},
   "source": [
    "Given the following data structure, write some code to return a list that contains only the dictionaries where all the numbers are even.\n",
    "\n",
    "```python\n",
    "    lst = [\n",
    "        {'a': [1, 2, 3]},\n",
    "        {'b': [2, 4, 6], 'c': [3, 6], 'd': [4]},\n",
    "        {'e': [8], 'f': [6, 10]},\n",
    "    ]\n",
    "```\n",
    "\n",
    "Expected result\n",
    "\n",
    "```python\n",
    "    [{e: [8], f: [6, 10]}]\n",
    "```"
   ]
  },
  {
   "cell_type": "markdown",
   "metadata": {},
   "source": [
    "<details>\n",
    "<summary><b>Answer:</b></summary>\n",
    "\n",
    "<br>\n",
    "\n",
    "```python\n",
    "\n",
    "```\n",
    "\n",
    "</details>"
   ]
  },
  {
   "cell_type": "markdown",
   "metadata": {},
   "source": [
    "---\n",
    "### Question 10"
   ]
  },
  {
   "cell_type": "markdown",
   "metadata": {},
   "source": [
    "A UUID (Universally Unique Identifier) is a type of identifier often used to uniquely identify items, even when some of those items were created on a different server or by a different application. That is, without any synchronization, two or more computer systems can create new items and label them with a UUID with no significant risk of stepping on each other's toes. It accomplishes this feat through massive randomization. The number of possible UUID values is approximately 3.4 X 10E38, which is a huge number. The chance of a conflict, a \"collision\", is vanishingly small with such a large number of possible values.\n",
    "\n",
    "Each UUID consists of 32 hexadecimal characters (the digits 0-9 and the letters a-f) represented as a string. The value is typically broken into 5 sections in an 8-4-4-4-12 pattern, e.g., 'f65c57f6-a6aa-17a8-faa1-a67f2dc9fa91'.\n",
    "\n",
    "Write a function that takes no arguments and returns a string that contains a UUID."
   ]
  },
  {
   "cell_type": "markdown",
   "metadata": {},
   "source": [
    "<details>\n",
    "<summary><b>Answer:</b></summary>\n",
    "\n",
    "<br>\n",
    "\n",
    "```python\n",
    "\n",
    "```\n",
    "\n",
    "\n",
    "</details>"
   ]
  },
  {
   "cell_type": "markdown",
   "metadata": {},
   "source": [
    "---\n",
    "### Question 11"
   ]
  },
  {
   "cell_type": "markdown",
   "metadata": {},
   "source": [
    "The following dictionary has list values that contains strings. Write some code to create a list of every vowel (a, e, i, o, u) that appears in the contained strings, then print it.\n",
    "\n",
    "```python\n",
    "    dict1 = {\n",
    "        'first':  ['the', 'quick'],\n",
    "        'second': ['brown', 'fox'],\n",
    "        'third':  ['jumped'],\n",
    "        'fourth': ['over', 'the', 'lazy', 'dog'],\n",
    "    }\n",
    "```\n",
    "\n",
    "Expected result\n",
    "\n",
    "```python\n",
    "print(list_of_vowels)\n",
    "# ['e', 'u', 'i', 'o', 'o', 'u', 'e', 'o', 'e', 'e', 'a', 'o']\n",
    "```\n",
    "Start by trying to write this using nested loops.\n",
    "\n",
    "**Extra Challenge**: Once your nested loop code works, try to refactor the code so it uses a single list comprehension. *(You can print the resulting list outside of the comprehension.)*"
   ]
  },
  {
   "cell_type": "markdown",
   "metadata": {},
   "source": [
    "<details>\n",
    "<summary><b>Answer:</b></summary>\n",
    "\n",
    "<br>\n",
    "\n",
    "```python\n",
    "\n",
    "```\n",
    "\n",
    "\n",
    "\n",
    "</details>"
   ]
  }
 ],
 "metadata": {
  "language_info": {
   "name": "python"
  }
 },
 "nbformat": 4,
 "nbformat_minor": 2
}

{
 "cells": [
  {
   "cell_type": "markdown",
   "metadata": {},
   "source": [
    "# Copy Issues\n",
    "---\n",
    "\n",
    "## Problem\n",
    "\n",
    "We have a list of lists and want to duplicate it. After making the copy, we modify the original list, but the copied list also seems to be affected:"
   ]
  },
  {
   "cell_type": "code",
   "execution_count": 2,
   "metadata": {},
   "outputs": [
    {
     "name": "stdout",
     "output_type": "stream",
     "text": [
      "False\n"
     ]
    }
   ],
   "source": [
    "import copy\n",
    "\n",
    "original = [[1], [2], [3]]\n",
    "copied = copy.copy(original)\n",
    "\n",
    "original[0][0] = 99\n",
    "\n",
    "print(copied[0] == [1])"
   ]
  },
  {
   "cell_type": "markdown",
   "metadata": {},
   "source": [
    "## Explanation\n",
    "\n",
    "The `.copy()` method makes **shallow** copies of mutable types. In this code, `original` is assigned a list literal, containing list elements, which contain a single integer value respectively. When `copied` is instantiated with `.copy()` on line 4, a new outer list is created, however, the inner lists contained within it are only references to the same underlying lists in memory that are in `original`. This means that anything done to either of these lists will be reflected in both `original` and `copied`.\n",
    "\n",
    "## Solution\n",
    "\n",
    "THis is a perfect use case for `copy.deepcopy()`. This method will create new copies of mutable types contained within the outer list, and fix the issue with this code:\n"
   ]
  },
  {
   "cell_type": "code",
   "execution_count": 1,
   "metadata": {},
   "outputs": [
    {
     "name": "stdout",
     "output_type": "stream",
     "text": [
      "True\n"
     ]
    }
   ],
   "source": [
    "import copy\n",
    "\n",
    "original = [[1], [2], [3]]\n",
    "copied = copy.deepcopy(original)\n",
    "\n",
    "original[0][0] = 99\n",
    "\n",
    "print(copied[0] == [1])"
   ]
  }
 ],
 "metadata": {
  "kernelspec": {
   "display_name": "Python 3",
   "language": "python",
   "name": "python3"
  },
  "language_info": {
   "codemirror_mode": {
    "name": "ipython",
    "version": 3
   },
   "file_extension": ".py",
   "mimetype": "text/x-python",
   "name": "python",
   "nbconvert_exporter": "python",
   "pygments_lexer": "ipython3",
   "version": "3.13.1"
  }
 },
 "nbformat": 4,
 "nbformat_minor": 2
}

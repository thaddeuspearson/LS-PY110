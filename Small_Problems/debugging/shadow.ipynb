{
 "cells": [
  {
   "cell_type": "markdown",
   "metadata": {},
   "source": [
    "# Shadow\n",
    "---\n",
    "\n",
    "## Problem\n",
    "\n",
    "We defined a function intending to multiply the sum of numbers by a factor. However, the function raises an error. Why? How would you fix this code?"
   ]
  },
  {
   "cell_type": "code",
   "execution_count": null,
   "metadata": {},
   "outputs": [],
   "source": [
    "def sum(numbers, factor):\n",
    "    return factor * sum(numbers)\n",
    "\n",
    "numbers = [1, 2, 3, 4]\n",
    "print(sum(numbers, 2) == 20)"
   ]
  },
  {
   "cell_type": "markdown",
   "metadata": {},
   "source": [
    "## Explanation\n",
    "\n",
    "In this code, there is a shadowing issue. `sum` is a built-in function in Python that sums up the values in a given sequence passed as an argument to it. By creating a new function called `sum`, the built-in method is shadowed, and the interpreter is trying to make a recursive call to the newly redefined function `sum`, which takes 2 arguments. However, only 1 argument is provided in the invocation on line 5, resulting in a required positional argument TypeError.\n",
    "\n",
    "## Solution\n",
    "\n",
    "In this case, the fix is to rename the function to something that is not a built-in method. Something like `mulitiply_sum` seems to be a good fit:"
   ]
  },
  {
   "cell_type": "code",
   "execution_count": 2,
   "metadata": {},
   "outputs": [
    {
     "name": "stdout",
     "output_type": "stream",
     "text": [
      "True\n"
     ]
    }
   ],
   "source": [
    "def multiply_sum(numbers, factor):\n",
    "    return factor * sum(numbers)\n",
    "\n",
    "numbers = [1, 2, 3, 4]\n",
    "print(multiply_sum(numbers, 2) == 20)"
   ]
  }
 ],
 "metadata": {
  "kernelspec": {
   "display_name": "Python 3",
   "language": "python",
   "name": "python3"
  },
  "language_info": {
   "codemirror_mode": {
    "name": "ipython",
    "version": 3
   },
   "file_extension": ".py",
   "mimetype": "text/x-python",
   "name": "python",
   "nbconvert_exporter": "python",
   "pygments_lexer": "ipython3",
   "version": "3.13.1"
  }
 },
 "nbformat": 4,
 "nbformat_minor": 2
}

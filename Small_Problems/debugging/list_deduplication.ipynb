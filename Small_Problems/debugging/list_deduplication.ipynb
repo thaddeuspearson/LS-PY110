{
 "cells": [
  {
   "cell_type": "markdown",
   "metadata": {},
   "source": [
    "# List Deduplication\n",
    "---\n",
    "\n",
    "## Problem\n",
    "\n",
    "A developer is trying to remove duplicates from a list. They use a set for deduplication, but the order of elements is lost. How can we preserve the order?"
   ]
  },
  {
   "cell_type": "code",
   "execution_count": 1,
   "metadata": {},
   "outputs": [
    {
     "name": "stdout",
     "output_type": "stream",
     "text": [
      "False\n"
     ]
    }
   ],
   "source": [
    "data = [4, 2, 4, 2, 1, 3, 2, 3, 2, 4, 3]\n",
    "unique_data = list(set(data))\n",
    "print(unique_data == [4, 2, 1, 3]) # order not guaranteed"
   ]
  },
  {
   "cell_type": "markdown",
   "metadata": {},
   "source": [
    "## Explanation\n",
    "\n",
    "One consideration when coercing a list to a set is the fact that order is not guarenteed.\n",
    "\n",
    "## Solution\n",
    "\n",
    "Create a lookup set with a conditional check to see if the current list element has been seen before. if it has not, append it to the unique list.\n"
   ]
  },
  {
   "cell_type": "code",
   "execution_count": 9,
   "metadata": {},
   "outputs": [
    {
     "name": "stdout",
     "output_type": "stream",
     "text": [
      "True\n"
     ]
    }
   ],
   "source": [
    "data = [4, 2, 4, 2, 1, 3, 2, 3, 2, 4, 3]\n",
    "unique_data = []\n",
    "seen = set()\n",
    "\n",
    "for num in data:\n",
    "    if num not in seen:\n",
    "        seen.add(num)\n",
    "        unique_data.append(num)\n",
    "\n",
    "print(unique_data == [4, 2, 1, 3]) # order not guaranteed"
   ]
  }
 ],
 "metadata": {
  "kernelspec": {
   "display_name": "Python 3",
   "language": "python",
   "name": "python3"
  },
  "language_info": {
   "codemirror_mode": {
    "name": "ipython",
    "version": 3
   },
   "file_extension": ".py",
   "mimetype": "text/x-python",
   "name": "python",
   "nbconvert_exporter": "python",
   "pygments_lexer": "ipython3",
   "version": "3.13.1"
  }
 },
 "nbformat": 4,
 "nbformat_minor": 2
}

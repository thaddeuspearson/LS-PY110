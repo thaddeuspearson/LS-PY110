{
 "cells": [
  {
   "cell_type": "markdown",
   "metadata": {},
   "source": [
    "# Mutable Default Arguments\n",
    "---\n",
    "\n",
    "## Problem\n",
    "\n",
    "We want to create a function that appends a given value to a list. However, the function seems to be behaving unexpectedly:"
   ]
  },
  {
   "cell_type": "code",
   "execution_count": null,
   "metadata": {},
   "outputs": [],
   "source": [
    "def append_to_list(value, lst=[]):\n",
    "    lst.append(value)\n",
    "    return lst\n",
    "\n",
    "print(append_to_list(1) == [1])\n",
    "print(append_to_list(2) == [2])"
   ]
  },
  {
   "cell_type": "markdown",
   "metadata": {},
   "source": [
    "## Explanation\n",
    "\n",
    "In Python, variables are **pass-by-object-reference**. When the underlying object in memory that is pointed to by a variable is mutable, Python behaves a bit like pass-by-reference. In this code, `lst` is a parameter for the `append_to_lst` function, and it is assigned a default value of an empty list literal.\n",
    "\n",
    "The problem with this approach is that the default value is a mutable type, and that means if it is mutated in the context of the `append_to_list` function _(which is the intended result of the function itself)_, than the same default list is modified with each subsequent call to `append_to_list` that does not specifiy a value for `lst` explicitly, because default values for parameters of functions are shared with any subsequent calls.\n",
    "\n",
    "## Solution\n",
    "\n",
    "The fix for this is to change the default value for `lst` from an empty list literal to `None` in the function definition of `append_to_lst`, create a conditional check within the function itself in the event the value of `lst` is None, and if so, pass an empty list literal to lst there:"
   ]
  },
  {
   "cell_type": "code",
   "execution_count": 1,
   "metadata": {},
   "outputs": [
    {
     "name": "stdout",
     "output_type": "stream",
     "text": [
      "True\n",
      "True\n"
     ]
    }
   ],
   "source": [
    "def append_to_list(value, lst=None):\n",
    "    if not lst:\n",
    "        lst = []\n",
    "    lst.append(value)\n",
    "    return lst\n",
    "\n",
    "print(append_to_list(1) == [1])\n",
    "print(append_to_list(2) == [2])"
   ]
  }
 ],
 "metadata": {
  "kernelspec": {
   "display_name": "Python 3",
   "language": "python",
   "name": "python3"
  },
  "language_info": {
   "codemirror_mode": {
    "name": "ipython",
    "version": 3
   },
   "file_extension": ".py",
   "mimetype": "text/x-python",
   "name": "python",
   "nbconvert_exporter": "python",
   "pygments_lexer": "ipython3",
   "version": "3.13.1"
  }
 },
 "nbformat": 4,
 "nbformat_minor": 2
}

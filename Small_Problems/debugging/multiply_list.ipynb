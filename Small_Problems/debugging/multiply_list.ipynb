{
 "cells": [
  {
   "cell_type": "markdown",
   "metadata": {},
   "source": [
    "# Multiply List\n",
    "---\n",
    "\n",
    "## Problem\n",
    "\n",
    "You want to multiply all elements of a list by 2. However, the function is not returning the expected result. Explain the bug, and provide a solution."
   ]
  },
  {
   "cell_type": "code",
   "execution_count": 4,
   "metadata": {},
   "outputs": [
    {
     "name": "stdout",
     "output_type": "stream",
     "text": [
      "False\n"
     ]
    }
   ],
   "source": [
    "def multiply_list(lst):\n",
    "    for item in lst:\n",
    "        item *= 2\n",
    "\n",
    "    return lst\n",
    "\n",
    "print(multiply_list([1, 2, 3]) == [2, 4, 6])"
   ]
  },
  {
   "cell_type": "markdown",
   "metadata": {},
   "source": [
    "## Explanation\n",
    "\n",
    "The issue with this code is that integers are **immutable types** in Python. On line 3 in `multiply_list`, the local variable `item` is reassigned to the value of `item * 2`. Since variables in Python are pointers to objects, and integers are immutable types, the object in memory that `item` is pointing to is not modified with this statement. `item` is simply reassigned to a new integer value, and the loop continues executing. This also means that the underlying integer value that was initially assigned to `item` in the context of the for loop remains unchanged.\n",
    "\n",
    "## Solution\n",
    "One way to solve this would be with reassigning the elements in list to the value of `item` multiplied by 2. This requires having access to the index of each element in list, which can be done directily with `range()` or using `enumerate()`, the latter being the more pythonic, and the method chosen for this solution:\n"
   ]
  },
  {
   "cell_type": "code",
   "execution_count": 2,
   "metadata": {},
   "outputs": [
    {
     "name": "stdout",
     "output_type": "stream",
     "text": [
      "True\n"
     ]
    }
   ],
   "source": [
    "def multiply_list(lst):\n",
    "    for idx, item in enumerate(lst):\n",
    "        lst[idx] = item * 2\n",
    "\n",
    "    return lst\n",
    "\n",
    "print(multiply_list([1, 2, 3]) == [2, 4, 6])"
   ]
  },
  {
   "cell_type": "markdown",
   "metadata": {},
   "source": [
    "The previous approach mutates the given list argument. A non-mutative way to achieve the same end goal would be to return a new list leveraging a comprehension, like this:"
   ]
  },
  {
   "cell_type": "code",
   "execution_count": 3,
   "metadata": {},
   "outputs": [
    {
     "name": "stdout",
     "output_type": "stream",
     "text": [
      "True\n"
     ]
    }
   ],
   "source": [
    "def multiply_list(lst):\n",
    "    return [item * 2 for item in lst]\n",
    "\n",
    "print(multiply_list([1, 2, 3]) == [2, 4, 6])"
   ]
  },
  {
   "cell_type": "markdown",
   "metadata": {},
   "source": []
  }
 ],
 "metadata": {
  "kernelspec": {
   "display_name": ".venv",
   "language": "python",
   "name": "python3"
  },
  "language_info": {
   "codemirror_mode": {
    "name": "ipython",
    "version": 3
   },
   "file_extension": ".py",
   "mimetype": "text/x-python",
   "name": "python",
   "nbconvert_exporter": "python",
   "pygments_lexer": "ipython3",
   "version": "3.13.1"
  }
 },
 "nbformat": 4,
 "nbformat_minor": 2
}

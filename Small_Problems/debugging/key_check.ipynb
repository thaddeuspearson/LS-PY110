{
 "cells": [
  {
   "cell_type": "markdown",
   "metadata": {},
   "source": [
    "# Key Check\n",
    "---\n",
    "\n",
    "## Problem\n",
    "\n",
    "You have a function that should check whether a key exists in a dictionary and returns its value. However, it's raising an error. Why is that? How would you fix this code?"
   ]
  },
  {
   "cell_type": "code",
   "execution_count": null,
   "metadata": {},
   "outputs": [],
   "source": [
    "def get_key_value(my_dict, key):\n",
    "    if my_dict[key]:\n",
    "        return my_dict[key]\n",
    "    else:\n",
    "        return None\n",
    "\n",
    "print(get_key_value({\"a\": 1}, \"b\"))"
   ]
  },
  {
   "cell_type": "markdown",
   "metadata": {},
   "source": [
    "## Explanation\n",
    "\n",
    "In this instance, this code is checking if the key `b` is in the dictionary: `{'a': 1}`. Since it is not, and the code is trying to directly access a key that is not in the given dictionary, a `KeyError` is thrown.\n",
    "\n",
    "## Solution\n",
    "\n",
    "A better and simpler way to accomplish this would be to use the .get() method, which accepts a defaukt value in the case that a key is not present in the given dictionary:"
   ]
  },
  {
   "cell_type": "markdown",
   "metadata": {},
   "source": []
  },
  {
   "cell_type": "code",
   "execution_count": 3,
   "metadata": {},
   "outputs": [
    {
     "name": "stdout",
     "output_type": "stream",
     "text": [
      "None\n"
     ]
    }
   ],
   "source": [
    "def get_key_value(my_dict, key):\n",
    "   return my_dict.get(key, None)\n",
    "\n",
    "print(get_key_value({\"a\": 1}, \"b\"))"
   ]
  }
 ],
 "metadata": {
  "kernelspec": {
   "display_name": ".venv",
   "language": "python",
   "name": "python3"
  },
  "language_info": {
   "codemirror_mode": {
    "name": "ipython",
    "version": 3
   },
   "file_extension": ".py",
   "mimetype": "text/x-python",
   "name": "python",
   "nbconvert_exporter": "python",
   "pygments_lexer": "ipython3",
   "version": "3.13.1"
  }
 },
 "nbformat": 4,
 "nbformat_minor": 2
}
